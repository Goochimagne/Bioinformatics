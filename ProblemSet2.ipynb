{
 "cells": [
  {
   "cell_type": "markdown",
   "metadata": {
    "section": "header"
   },
   "source": [
    "<div style=\"text-align: center;\">\n",
    "<h1>The University of North Carolina at Chapel Hill</h1>\n",
    "<h1>Comp 555 BioAlgorithms - Spring 2017</h1>\n",
    "<h1 style=\"font-size: 250%;\">Problem Set #2 </h1>\n",
    "<h2>Version 2</h2>\n",
    "<h1>Issued Monday, 2/20/2017; Due Monday, 3/6/2017</h1>\n",
    "</div>\n",
    "\n",
    "**Homework Information:** Some of the problems are probably too long to complete the night before the due date, so plan accordingly. Late problem sets will be penalized by a factor of\t70.71% for each class meeting after the due date. Feel free to get help from others, but the work you submit in should be your own."
   ]
  },
  {
   "cell_type": "code",
   "execution_count": 1,
   "metadata": {
    "collapsed": false,
    "section": "signature"
   },
   "outputs": [],
   "source": [
    "# Replace the following string values with the requested information\n",
    "class Student:\n",
    "    first = \"Nick\"\n",
    "    last = \"Gooch\"\n",
    "    onyen = \"nbgooch\"\n",
    "    pid = \"720052029\""
   ]
  },
  {
   "cell_type": "markdown",
   "metadata": {
    "number": 1,
    "section": "problem"
   },
   "source": [
    "---\n",
    "**Problem #1:** Consider the table of integer molecular pathWeight for amino acid residues that we have used in class and is repeated below.\n",
    "\n",
    "        Daltons = { \n",
    "            'A':  71, 'C': 103, 'D': 115, 'E': 129,\n",
    "            'F': 147, 'G':  57, 'H': 137, 'I': 113,\n",
    "            'K': 128, 'L': 113, 'M': 131, 'N': 114,\n",
    "            'P':  97, 'Q': 128, 'R': 156, 'S':  87,\n",
    "            'T': 101, 'V':  99, 'W': 186, 'Y': 163 \n",
    "        }\n",
    "\n",
    "Which peptide *combinations* have a total molecular weight of 555 daltons? A *combination* means that the order of the peptides is unimportant (i.e. \"AKS\" is the same combination as any of \"ASK\", \"KAS\", \"KSA\", \"SAK\", and \"SKA\"). When reporting your answer you should lexigraphically sort the resides within each combination (\"AKS\" is the sorted version of the previous example). Furthermore, the list of combinations should also be lexigraphically sorted (The python sorted() method will do this for you)."
   ]
  },
  {
   "cell_type": "code",
   "execution_count": 2,
   "metadata": {
    "collapsed": false,
    "number": 1,
    "section": "answer"
   },
   "outputs": [
    {
     "name": "stdout",
     "output_type": "stream",
     "text": [
      "468 ['AAAAAAE', 'AAAAACP', 'AAAAAIS', 'AAAAALS', 'AAAAATV', 'AAAADGV', 'AAAADR', 'AAAAGIT', 'AAAAGLT', 'AAAAPSS', 'AAADGGI', 'AAADGGL', 'AAADIN', 'AAADKV', 'AAADLN', 'AAADQV', 'AAAEGGV', 'AAAEGR', 'AAAENV', 'AAAGGGGGG', 'AAAGGGGN', 'AAAGGMP', 'AAAGGNN', 'AAAGPST', 'AAAGSVV', 'AAAGVW', 'AAAIKT', 'AAAIQT', 'AAAKLT', 'AAALQT', 'AAAMNP', 'AAANNN', 'AAARSV', 'AAARW', 'AACFY', 'AACGGPV', 'AACGPR', 'AACNPV', 'AADGGPS', 'AADGIK', 'AADGIQ', 'AADGKL', 'AADGLQ', 'AADNPS', 'AAEFH', 'AAEGGGI', 'AAEGGGL', 'AAEGIN', 'AAEGKV', 'AAEGLN', 'AAEGQV', 'AAEKR', 'AAEQR', 'AAGGGGGK', 'AAGGGGGQ', 'AAGGGKN', 'AAGGGNQ', 'AAGGISV', 'AAGGIW', 'AAGGLSV', 'AAGGLW', 'AAGGPTT', 'AAGGTVV', 'AAGIRS', 'AAGKMP', 'AAGKNN', 'AAGLRS', 'AAGMPQ', 'AAGNNQ', 'AAGRTV', 'AAHIY', 'AAHLY', 'AAINSV', 'AAINW', 'AAKPST', 'AAKSVV', 'AAKVW', 'AALNSV', 'AALNW', 'AANPTT', 'AANTVV', 'AAPQST', 'AAQSVV', 'AAQVW', 'AARRT', 'AASYY', 'ACCDY', 'ACCFM', 'ACDEH', 'ACFFS', 'ACFHP', 'ACGGGIP', 'ACGGGLP', 'ACGINP', 'ACGKPV', 'ACGLNP', 'ACGPQV', 'ACHIM', 'ACHLM', 'ACKPR', 'ACMSY', 'ACPQR', 'ADGGGPT', 'ADGGGVV', 'ADGGRV', 'ADGKPS', 'ADGNPT', 'ADGNVV', 'ADGPQS', 'ADGRR', 'ADHMT', 'ADIKK', 'ADIKQ', 'ADIQQ', 'ADKKL', 'ADKLQ', 'ADLQQ', 'ADNRV', 'AEEEP', 'AEEII', 'AEEIL', 'AEELL', 'AEGGGPS', 'AEGGIK', 'AEGGIQ', 'AEGGKL', 'AEGGLQ', 'AEGNPS', 'AEHMS', 'AEIKN', 'AEINQ', 'AEKKV', 'AEKLN', 'AEKQV', 'AELNQ', 'AEQQV', 'AFHIS', 'AFHLS', 'AFHTV', 'AFSSY', 'AGGGGKK', 'AGGGGKQ', 'AGGGGQQ', 'AGGGIIS', 'AGGGILS', 'AGGGITV', 'AGGGLLS', 'AGGGLTV', 'AGGIRT', 'AGGKKN', 'AGGKNQ', 'AGGLRT', 'AGGNQQ', 'AGGPSSV', 'AGGPSW', 'AGIINS', 'AGIKSV', 'AGIKW', 'AGILNS', 'AGINTV', 'AGIQSV', 'AGIQW', 'AGKLSV', 'AGKLW', 'AGKPTT', 'AGKTVV', 'AGLLNS', 'AGLNTV', 'AGLQSV', 'AGLQW', 'AGPQTT', 'AGPRSS', 'AGQTVV', 'AGTYY', 'AHHIP', 'AHHLP', 'AHPSY', 'AIKRS', 'AINRT', 'AIQRS', 'AKKMP', 'AKKNN', 'AKLRS', 'AKMPQ', 'AKNNQ', 'AKRTV', 'ALNRT', 'ALQRS', 'AMPQQ', 'ANNQQ', 'ANPSSV', 'ANPSW', 'AQRTV', 'CCCDM', 'CCCFV', 'CCDFS', 'CCDHP', 'CCEGY', 'CCFTT', 'CCHIV', 'CCHLV', 'CCMMS', 'CCSVY', 'CCWY', 'CDHIS', 'CDHLS', 'CDHTV', 'CDSSY', 'CEEGH', 'CEEPP', 'CEHSV', 'CEHW', 'CEIIP', 'CEILP', 'CELLP', 'CFFGT', 'CFMSS', 'CGGGGHS', 'CGGGPPS', 'CGGHNS', 'CGGIKP', 'CGGIPQ', 'CGGKLP', 'CGGLPQ', 'CGMTY', 'CGNPPS', 'CHITT', 'CHLTT', 'CHMPS', 'CHNNS', 'CIIII', 'CIIIL', 'CIILL', 'CIKNP', 'CILLL', 'CINPQ', 'CKKPV', 'CKLNP', 'CKPQV', 'CLLLL', 'CLNPQ', 'CPQQV', 'CSTTY', 'DDDIP', 'DDDLP', 'DDEPV', 'DDGGGGP', 'DDGGNP', 'DDGHM', 'DDHST', 'DDIIV', 'DDILV', 'DDLLV', 'DDMPP', 'DDNNP', 'DEHSS', 'DEIPT', 'DEIVV', 'DELPT', 'DELVV', 'DFGHV', 'DFHR', 'DFPPV', 'DGGGGIV', 'DGGGGLV', 'DGGGIR', 'DGGGLR', 'DGGINV', 'DGGKPT', 'DGGKVV', 'DGGLNV', 'DGGPQT', 'DGGQVV', 'DGGYY', 'DGINR', 'DGKRV', 'DGLNR', 'DGQRV', 'DHTTT', 'DIIIT', 'DIILT', 'DILLT', 'DIMPV', 'DINNV', 'DKKPS', 'DKNPT', 'DKNVV', 'DKPQS', 'DKRR', 'DLLLT', 'DLMPV', 'DLNNV', 'DNPQT', 'DNQVV', 'DNYY', 'DPQQS', 'DQRR', 'EEIPS', 'EELPS', 'EEPTV', 'EEVVV', 'EGGGGPT', 'EGGGGVV', 'EGGGRV', 'EGGKPS', 'EGGNPT', 'EGGNVV', 'EGGPQS', 'EGGRR', 'EGHMT', 'EGIKK', 'EGIKQ', 'EGIQQ', 'EGKKL', 'EGKLQ', 'EGLQQ', 'EGNRV', 'EHSTT', 'EIIIS', 'EIILS', 'EIITV', 'EILLS', 'EILTV', 'EKNPS', 'ELLLS', 'ELLTV', 'EMPPT', 'EMPVV', 'ENNPT', 'ENNVV', 'ENPQS', 'ENRR', 'FFFGG', 'FFFN', 'FFSSS', 'FGGMY', 'FGHIT', 'FGHLT', 'FGSTY', 'FHPSS', 'FIPPT', 'FIPVV', 'FLPPT', 'FLPVV', 'FMNY', 'GGGGGGGGV', 'GGGGGGGR', 'GGGGGGNV', 'GGGGGNR', 'GGGGIIT', 'GGGGILT', 'GGGGLLT', 'GGGGMPV', 'GGGGNNV', 'GGGIPSS', 'GGGKKK', 'GGGKKQ', 'GGGKQQ', 'GGGLPSS', 'GGGMPR', 'GGGNNR', 'GGGPSTV', 'GGGPTW', 'GGGQQQ', 'GGGSVVV', 'GGGVVW', 'GGIIKS', 'GGIINT', 'GGIIQS', 'GGIKLS', 'GGIKTV', 'GGILNT', 'GGILQS', 'GGIQTV', 'GGKLLS', 'GGKLTV', 'GGLLNT', 'GGLLQS', 'GGLQTV', 'GGMNPV', 'GGNNNV', 'GGPRST', 'GGRSVV', 'GGRVW', 'GHHHS', 'GHMMV', 'GHPTY', 'GHVVY', 'GIKRT', 'GINPSS', 'GIQRT', 'GKKKN', 'GKKNQ', 'GKLRT', 'GKNQQ', 'GKPSSV', 'GKPSW', 'GLNPSS', 'GLQRT', 'GMNPR', 'GNNNR', 'GNPSTV', 'GNPTW', 'GNQQQ', 'GNSVVV', 'GNVVW', 'GPQSSV', 'GPQSW', 'GRRSV', 'GRRW', 'HHPPS', 'HIMSS', 'HLMSS', 'HMMR', 'HMSTV', 'HMTW', 'HRVY', 'IIKNS', 'IIMPT', 'IIMVV', 'IINNT', 'IINQS', 'IKKSV', 'IKKW', 'IKLNS', 'IKNTV', 'IKQSV', 'IKQW', 'ILMPT', 'ILMVV', 'ILNNT', 'ILNQS', 'INQTV', 'IQQSV', 'IQQW', 'KKLSV', 'KKLW', 'KKPTT', 'KKTVV', 'KLLNS', 'KLNTV', 'KLQSV', 'KLQW', 'KPQTT', 'KPRSS', 'KQTVV', 'KTYY', 'LLMPT', 'LLMVV', 'LLNNT', 'LLNQS', 'LNQTV', 'LQQSV', 'LQQW', 'MMPPV', 'MNNPV', 'MSSSY', 'NNNNV', 'NPRST', 'NRSVV', 'NRVW', 'PPPTY', 'PPVVY', 'PQQTT', 'PQRSS', 'QQTVV', 'QTYY', 'RRRS']\n"
     ]
    }
   ],
   "source": [
    "global Daltons\n",
    "Daltons = { 'A':  71, 'C': 103, 'D': 115, 'E': 129,\n",
    "            'F': 147, 'G':  57, 'H': 137, 'I': 113,\n",
    "            'K': 128, 'L': 113, 'M': 131, 'N': 114,\n",
    "            'P':  97, 'Q': 128, 'R': 156, 'S':  87,\n",
    "            'T': 101, 'V':  99, 'W': 186, 'Y': 163 }\n",
    "\n",
    "def genPep(maxWeight, prefix = ''):\n",
    "    weight = (sum([Daltons[peptide] for peptide in prefix]))\n",
    "    if (prefix == ''):\n",
    "        global peptideList\n",
    "        peptideList = set()\n",
    "    if (weight == maxWeight):\n",
    "        peptideList.add(''.join(sorted(prefix)))\n",
    "        return \n",
    "    elif(weight > maxWeight):\n",
    "        return\n",
    "    else:\n",
    "        for key in Daltons.keys():\n",
    "            if (weight + Daltons[key] <= maxWeight):\n",
    "                genPep(maxWeight, prefix+key)\n",
    "                \n",
    "genPep(555)\n",
    "print len(peptideList), sorted(peptideList)"
   ]
  },
  {
   "cell_type": "markdown",
   "metadata": {},
   "source": [
    "468 ['AAAAAAE', 'AAAAACP', 'AAAAAIS', 'AAAAALS', 'AAAAATV', 'AAAADGV', 'AAAADR', 'AAAAGIT', 'AAAAGLT', 'AAAAPSS', 'AAADGGI', 'AAADGGL', 'AAADIN', 'AAADKV', 'AAADLN', 'AAADQV', 'AAAEGGV', 'AAAEGR', 'AAAENV', 'AAAGGGGGG', 'AAAGGGGN', 'AAAGGMP', 'AAAGGNN', 'AAAGPST', 'AAAGSVV', 'AAAGVW', 'AAAIKT', 'AAAIQT', 'AAAKLT', 'AAALQT', 'AAAMNP', 'AAANNN', 'AAARSV', 'AAARW', 'AACFY', 'AACGGPV', 'AACGPR', 'AACNPV', 'AADGGPS', 'AADGIK', 'AADGIQ', 'AADGKL', 'AADGLQ', 'AADNPS', 'AAEFH', 'AAEGGGI', 'AAEGGGL', 'AAEGIN', 'AAEGKV', 'AAEGLN', 'AAEGQV', 'AAEKR', 'AAEQR', 'AAGGGGGK', 'AAGGGGGQ', 'AAGGGKN', 'AAGGGNQ', 'AAGGISV', 'AAGGIW', 'AAGGLSV', 'AAGGLW', 'AAGGPTT', 'AAGGTVV', 'AAGIRS', 'AAGKMP', 'AAGKNN', 'AAGLRS', 'AAGMPQ', 'AAGNNQ', 'AAGRTV', 'AAHIY', 'AAHLY', 'AAINSV', 'AAINW', 'AAKPST', 'AAKSVV', 'AAKVW', 'AALNSV', 'AALNW', 'AANPTT', 'AANTVV', 'AAPQST', 'AAQSVV', 'AAQVW', 'AARRT', 'AASYY', 'ACCDY', 'ACCFM', 'ACDEH', 'ACFFS', 'ACFHP', 'ACGGGIP', 'ACGGGLP', 'ACGINP', 'ACGKPV', 'ACGLNP', 'ACGPQV', 'ACHIM', 'ACHLM', 'ACKPR', 'ACMSY', 'ACPQR', 'ADGGGPT', 'ADGGGVV', 'ADGGRV', 'ADGKPS', 'ADGNPT', 'ADGNVV', 'ADGPQS', 'ADGRR', 'ADHMT', 'ADIKK', 'ADIKQ', 'ADIQQ', 'ADKKL', 'ADKLQ', 'ADLQQ', 'ADNRV', 'AEEEP', 'AEEII', 'AEEIL', 'AEELL', 'AEGGGPS', 'AEGGIK', 'AEGGIQ', 'AEGGKL', 'AEGGLQ', 'AEGNPS', 'AEHMS', 'AEIKN', 'AEINQ', 'AEKKV', 'AEKLN', 'AEKQV', 'AELNQ', 'AEQQV', 'AFHIS', 'AFHLS', 'AFHTV', 'AFSSY', 'AGGGGKK', 'AGGGGKQ', 'AGGGGQQ', 'AGGGIIS', 'AGGGILS', 'AGGGITV', 'AGGGLLS', 'AGGGLTV', 'AGGIRT', 'AGGKKN', 'AGGKNQ', 'AGGLRT', 'AGGNQQ', 'AGGPSSV', 'AGGPSW', 'AGIINS', 'AGIKSV', 'AGIKW', 'AGILNS', 'AGINTV', 'AGIQSV', 'AGIQW', 'AGKLSV', 'AGKLW', 'AGKPTT', 'AGKTVV', 'AGLLNS', 'AGLNTV', 'AGLQSV', 'AGLQW', 'AGPQTT', 'AGPRSS', 'AGQTVV', 'AGTYY', 'AHHIP', 'AHHLP', 'AHPSY', 'AIKRS', 'AINRT', 'AIQRS', 'AKKMP', 'AKKNN', 'AKLRS', 'AKMPQ', 'AKNNQ', 'AKRTV', 'ALNRT', 'ALQRS', 'AMPQQ', 'ANNQQ', 'ANPSSV', 'ANPSW', 'AQRTV', 'CCCDM', 'CCCFV', 'CCDFS', 'CCDHP', 'CCEGY', 'CCFTT', 'CCHIV', 'CCHLV', 'CCMMS', 'CCSVY', 'CCWY', 'CDHIS', 'CDHLS', 'CDHTV', 'CDSSY', 'CEEGH', 'CEEPP', 'CEHSV', 'CEHW', 'CEIIP', 'CEILP', 'CELLP', 'CFFGT', 'CFMSS', 'CGGGGHS', 'CGGGPPS', 'CGGHNS', 'CGGIKP', 'CGGIPQ', 'CGGKLP', 'CGGLPQ', 'CGMTY', 'CGNPPS', 'CHITT', 'CHLTT', 'CHMPS', 'CHNNS', 'CIIII', 'CIIIL', 'CIILL', 'CIKNP', 'CILLL', 'CINPQ', 'CKKPV', 'CKLNP', 'CKPQV', 'CLLLL', 'CLNPQ', 'CPQQV', 'CSTTY', 'DDDIP', 'DDDLP', 'DDEPV', 'DDGGGGP', 'DDGGNP', 'DDGHM', 'DDHST', 'DDIIV', 'DDILV', 'DDLLV', 'DDMPP', 'DDNNP', 'DEHSS', 'DEIPT', 'DEIVV', 'DELPT', 'DELVV', 'DFGHV', 'DFHR', 'DFPPV', 'DGGGGIV', 'DGGGGLV', 'DGGGIR', 'DGGGLR', 'DGGINV', 'DGGKPT', 'DGGKVV', 'DGGLNV', 'DGGPQT', 'DGGQVV', 'DGGYY', 'DGINR', 'DGKRV', 'DGLNR', 'DGQRV', 'DHTTT', 'DIIIT', 'DIILT', 'DILLT', 'DIMPV', 'DINNV', 'DKKPS', 'DKNPT', 'DKNVV', 'DKPQS', 'DKRR', 'DLLLT', 'DLMPV', 'DLNNV', 'DNPQT', 'DNQVV', 'DNYY', 'DPQQS', 'DQRR', 'EEIPS', 'EELPS', 'EEPTV', 'EEVVV', 'EGGGGPT', 'EGGGGVV', 'EGGGRV', 'EGGKPS', 'EGGNPT', 'EGGNVV', 'EGGPQS', 'EGGRR', 'EGHMT', 'EGIKK', 'EGIKQ', 'EGIQQ', 'EGKKL', 'EGKLQ', 'EGLQQ', 'EGNRV', 'EHSTT', 'EIIIS', 'EIILS', 'EIITV', 'EILLS', 'EILTV', 'EKNPS', 'ELLLS', 'ELLTV', 'EMPPT', 'EMPVV', 'ENNPT', 'ENNVV', 'ENPQS', 'ENRR', 'FFFGG', 'FFFN', 'FFSSS', 'FGGMY', 'FGHIT', 'FGHLT', 'FGSTY', 'FHPSS', 'FIPPT', 'FIPVV', 'FLPPT', 'FLPVV', 'FMNY', 'GGGGGGGGV', 'GGGGGGGR', 'GGGGGGNV', 'GGGGGNR', 'GGGGIIT', 'GGGGILT', 'GGGGLLT', 'GGGGMPV', 'GGGGNNV', 'GGGIPSS', 'GGGKKK', 'GGGKKQ', 'GGGKQQ', 'GGGLPSS', 'GGGMPR', 'GGGNNR', 'GGGPSTV', 'GGGPTW', 'GGGQQQ', 'GGGSVVV', 'GGGVVW', 'GGIIKS', 'GGIINT', 'GGIIQS', 'GGIKLS', 'GGIKTV', 'GGILNT', 'GGILQS', 'GGIQTV', 'GGKLLS', 'GGKLTV', 'GGLLNT', 'GGLLQS', 'GGLQTV', 'GGMNPV', 'GGNNNV', 'GGPRST', 'GGRSVV', 'GGRVW', 'GHHHS', 'GHMMV', 'GHPTY', 'GHVVY', 'GIKRT', 'GINPSS', 'GIQRT', 'GKKKN', 'GKKNQ', 'GKLRT', 'GKNQQ', 'GKPSSV', 'GKPSW', 'GLNPSS', 'GLQRT', 'GMNPR', 'GNNNR', 'GNPSTV', 'GNPTW', 'GNQQQ', 'GNSVVV', 'GNVVW', 'GPQSSV', 'GPQSW', 'GRRSV', 'GRRW', 'HHPPS', 'HIMSS', 'HLMSS', 'HMMR', 'HMSTV', 'HMTW', 'HRVY', 'IIKNS', 'IIMPT', 'IIMVV', 'IINNT', 'IINQS', 'IKKSV', 'IKKW', 'IKLNS', 'IKNTV', 'IKQSV', 'IKQW', 'ILMPT', 'ILMVV', 'ILNNT', 'ILNQS', 'INQTV', 'IQQSV', 'IQQW', 'KKLSV', 'KKLW', 'KKPTT', 'KKTVV', 'KLLNS', 'KLNTV', 'KLQSV', 'KLQW', 'KPQTT', 'KPRSS', 'KQTVV', 'KTYY', 'LLMPT', 'LLMVV', 'LLNNT', 'LLNQS', 'LNQTV', 'LQQSV', 'LQQW', 'MMPPV', 'MNNPV', 'MSSSY', 'NNNNV', 'NPRST', 'NRSVV', 'NRVW', 'PPPTY', 'PPVVY', 'PQQTT', 'PQRSS', 'QQTVV', 'QTYY', 'RRRS']"
   ]
  },
  {
   "cell_type": "markdown",
   "metadata": {
    "number": 2,
    "section": "problem"
   },
   "source": [
    "---\n",
    "**Problem #2:** The protein for initiating chromosome replication, *DnaA*, which we discussed in class, appears in the genome of [*Brevibacillus brevis*](http://csbio.unc.edu/mcmillan/Comp555S17/data/BacillusBrevis.fa). Its peptide sequence is: \n",
    "\n",
    "         DnaA = \"MDAAISELWRKVLAKIEKSLSKPSFDTWLKATKATTLEEDALIVVAPNDFARDWLETRYA\" +\\\n",
    "                \"QLITDTLYEVTGINMKVKFVALQNPDAAFADEQPVPRVKMSEPPTVADDQPPSILNPKYT\" +\\\n",
    "                \"FDTFVIGSGNRFAHAASLAVAEAPAKAYNPLFIYGGVGLGKTHLMHAIGHYVIQHNPSAK\" +\\\n",
    "                \"VVYLSSEKFTNEFINSIRDNKAVEFRNKYRSVDVLLIDDIQFLAGKESTQEEFFHTFNAL\" +\\\n",
    "                \"HEESKQIIISSDRPPKEIPTLEDRLRSRFEWGLITDIQPPDLETRIAILRKKAKAENLDI\" +\\\n",
    "                \"PNEVMAYIANQIDSNIRELEGALIRVVAYSSLINRDIDTQLAAEALKDIIPSSRPRVITI\" +\\\n",
    "                \"IDIQRTVGEAFSLKLEDFKAKKRTKTVAFPRQIAMYLSRELTDASLPKIGDEFGGRDHTT\" +\\\n",
    "                \"VIHAHEKISRALANDPHMQTTIQSLIEKLKANH\"\n",
    "       \n",
    "How many possible DNA-sequence encodings are possible for this protein? (**Note:** you should consider all possible STOP codons in your calculations)"
   ]
  },
  {
   "cell_type": "code",
   "execution_count": 9,
   "metadata": {
    "collapsed": false,
    "number": 2,
    "section": "answer"
   },
   "outputs": [
    {
     "name": "stdout",
     "output_type": "stream",
     "text": [
      "15467345809188780904218306454693351836103477962558668786395768989831802657542134210796837956747286040486517283914725393459238318725032125665146037387188795090997796364072402844155455228493786126052572265133452355769856816054272 = 1.5467345809e+226\n"
     ]
    }
   ],
   "source": [
    "DnaA = \"MDAAISELWRKVLAKIEKSLSKPSFDTWLKATKATTLEEDALIVVAPNDFARDWLETRYA\" +\\\n",
    "        \"QLITDTLYEVTGINMKVKFVALQNPDAAFADEQPVPRVKMSEPPTVADDQPPSILNPKYT\" +\\\n",
    "        \"FDTFVIGSGNRFAHAASLAVAEAPAKAYNPLFIYGGVGLGKTHLMHAIGHYVIQHNPSAK\" +\\\n",
    "        \"VVYLSSEKFTNEFINSIRDNKAVEFRNKYRSVDVLLIDDIQFLAGKESTQEEFFHTFNAL\" +\\\n",
    "        \"HEESKQIIISSDRPPKEIPTLEDRLRSRFEWGLITDIQPPDLETRIAILRKKAKAENLDI\" +\\\n",
    "        \"PNEVMAYIANQIDSNIRELEGALIRVVAYSSLINRDIDTQLAAEALKDIIPSSRPRVITI\" +\\\n",
    "        \"IDIQRTVGEAFSLKLEDFKAKKRTKTVAFPRQIAMYLSRELTDASLPKIGDEFGGRDHTT\" +\\\n",
    "        \"VIHAHEKISRALANDPHMQTTIQSLIEKLKANH*\"\n",
    "    \n",
    "global codon    \n",
    "codon = {\"AAA\": 'K', \"AAG\": 'K', \"AAC\": 'N', \"AAU\": 'N',\n",
    "        \"AGA\": 'R', \"AGG\": 'R', \"AGC\": 'S', \"AGU\": 'S',\n",
    "        \"ACA\": 'T', \"ACG\": 'T', \"ACC\": 'T', \"ACU\": 'T',\n",
    "        \"AUA\": 'I', \"AUG\": 'M', \"AUC\": 'I', \"AUU\": 'I',\n",
    "        \"GAA\": 'E', \"GAG\": 'E', \"GAC\": 'D', \"GAU\": 'D',\n",
    "        \"GGA\": 'G', \"GGG\": 'G', \"GGC\": 'G', \"GGU\": 'G',\n",
    "        \"GCA\": 'A', \"GCG\": 'A', \"GCC\": 'A', \"GCU\": 'A',\n",
    "        \"GUA\": 'V', \"GUG\": 'V', \"GUC\": 'V', \"GUU\": 'V',\n",
    "        \"CAA\": 'Q', \"CAG\": 'Q', \"CAC\": 'H', \"CAU\": 'H',\n",
    "        \"CGA\": 'R', \"CGG\": 'R', \"CGC\": 'R', \"CGU\": 'R',\n",
    "        \"CCA\": 'P', \"CCG\": 'P', \"CCC\": 'P', \"CCU\": 'P',\n",
    "        \"CUA\": 'L', \"CUG\": 'L', \"CUC\": 'L', \"CUU\": 'L',\n",
    "        \"UAA\": '*', \"UAG\": '*', \"UAC\": 'Y', \"UAU\": 'Y',\n",
    "        \"UGA\": '*', \"UGG\": 'W', \"UGC\": 'C', \"UGU\": 'C',\n",
    "        \"UCA\": 'S', \"UCG\": 'S', \"UCC\": 'S', \"UCU\": 'S',\n",
    "        \"UUA\": 'L', \"UUG\": 'L', \"UUC\": 'F', \"UUU\": 'F'}\n",
    "\n",
    "encodings = dict()\n",
    "for key, code in codon.items():\n",
    "    encodings[code] = encodings.get(code,[]) + [key]\n",
    "for key, val in encodings.items():\n",
    "    encodings[key] = len(encodings[key])\n",
    "product = list()\n",
    "for char in DnaA:\n",
    "    product.append(encodings[char])\n",
    "    \n",
    "ans = long(1)\n",
    "for i in product:\n",
    "    ans*=i\n",
    "print ans,'= {:.10e}'.format(ans)"
   ]
  },
  {
   "cell_type": "markdown",
   "metadata": {},
   "source": [
    "15467345809188780904218306454693351836103477962558668786395768989831802657542134210796837956747286040486517283914725393459238318725032125665146037387188795090997796364072402844155455228493786126052572265133452355769856816054272 = 1.5467345809e+226"
   ]
  },
  {
   "cell_type": "markdown",
   "metadata": {
    "number": 3,
    "section": "problem"
   },
   "source": [
    "---\n",
    "**Problem #3:** Find the coding sequence for the *DnaA* gene in [*Brevibacillus brevis*](http://csbio.unc.edu/mcmillan/Comp555S17/data/BacillusBrevis.fa). Your answer should give the sequence's slice interval in the genome (i.e. seq[start:end], where end=start+3&times;454 <strike>28</strike>). Note the the gene sequence might appear either on the primary sequence or its reverse complement. ***Hint:*** Many procaryotic proteins make use of alternate start codons instead of the usual \"AUG\" (Methionine) sequence. These alternate start codes are still translated to Methionine, but they do not appear as the expected codon in the DNA sequence. *DnaA* is such a protein, thus you will not find it if you expect it to start with \"ATG\"."
   ]
  },
  {
   "cell_type": "code",
   "execution_count": 4,
   "metadata": {
    "collapsed": false,
    "number": 3,
    "section": "answer"
   },
   "outputs": [
    {
     "name": "stdout",
     "output_type": "stream",
     "text": [
      "{464: 1826}\n"
     ]
    }
   ],
   "source": [
    "DnaA =  \"DAAISELWRKVLAKIEKSLSKPSFDTWLKATKATTLEEDALIVVAPNDFARDWLETRYA\" +\\\n",
    "        \"QLITDTLYEVTGINMKVKFVALQNPDAAFADEQPVPRVKMSEPPTVADDQPPSILNPKYT\" +\\\n",
    "        \"FDTFVIGSGNRFAHAASLAVAEAPAKAYNPLFIYGGVGLGKTHLMHAIGHYVIQHNPSAK\" +\\\n",
    "        \"VVYLSSEKFTNEFINSIRDNKAVEFRNKYRSVDVLLIDDIQFLAGKESTQEEFFHTFNAL\" +\\\n",
    "        \"HEESKQIIISSDRPPKEIPTLEDRLRSRFEWGLITDIQPPDLETRIAILRKKAKAENLDI\" +\\\n",
    "        \"PNEVMAYIANQIDSNIRELEGALIRVVAYSSLINRDIDTQLAAEALKDIIPSSRPRVITI\" +\\\n",
    "        \"IDIQRTVGEAFSLKLEDFKAKKRTKTVAFPRQIAMYLSRELTDASLPKIGDEFGGRDHTT\" +\\\n",
    "        \"VIHAHEKISRALANDPHMQTTIQSLIEKLKANH*\"\n",
    "\n",
    "def loadFasta(filename):\n",
    "    fp = open(filename, 'rb')\n",
    "    data = fp.read().split('>')\n",
    "    fp.close\n",
    "    data.pop(0)\n",
    "    headers = []\n",
    "    sequences = []\n",
    "    for sequence in data:\n",
    "        lines = sequence.split('\\n')\n",
    "        headers.append(lines.pop(0))\n",
    "        sequences.append(''.join(lines))\n",
    "    return (headers, sequences)\n",
    "\n",
    "head, seq = loadFasta('BacillusBrevis.fa')\n",
    "\n",
    "# Yes I hard coded all the possible encodings of INMK...unfortunately\n",
    "potSeq = ['ATAAACATGAAA','ATAAATATGAAA','ATAAACATGAAG','ATAAATATGAAG','ATCAACATGAAA','ATCAATATGAAA',\n",
    "             'ATCAACATGAAG','ATCAATATGAAG','ATTAACATGAAA','ATTAATATGAAA','ATTAACATGAAG','ATTAATATGAAG']\n",
    "\n",
    "DNA = seq[0]\n",
    "k = 12\n",
    "forward = list()\n",
    "reverse = list()\n",
    "proteinPosition = dict()\n",
    "startOffsetM = 72\n",
    "startOffsetD = 71\n",
    "indexAdd = (len(DnaA)-startOffsetD)*3\n",
    "\n",
    "for i in xrange(0,len(DNA)-k+1):\n",
    "    kmer = DNA[i:i+k]\n",
    "    krev = ''.join([{'A':'T','C':'G','G':'C','T':'A'}[base] for base in reversed(kmer)])\n",
    "    for j in potSeq:\n",
    "        if (kmer == j):\n",
    "            forward.append(i)\n",
    "        elif (krev == j):\n",
    "            reverse.append(i+k)\n",
    "            \n",
    "# Found in forward strand and do not expect it to occur more than once\n",
    "for index in forward:\n",
    "    encoding = DNA[int(index):int(index)+indexAdd].replace('T', 'U')\n",
    "    protein = ''.join([codon[encoding[j:j+3]] for j in xrange(0,len(encoding)-2, 3)])\n",
    "    if protein == DnaA[startOffsetD:]:\n",
    "        proteinPosition[index-(startOffsetM*3)] = index+indexAdd\n",
    "        print proteinPosition\n",
    "        break"
   ]
  },
  {
   "cell_type": "markdown",
   "metadata": {},
   "source": [
    "{464: 1826}"
   ]
  },
  {
   "cell_type": "markdown",
   "metadata": {
    "number": 4,
    "section": "problem"
   },
   "source": [
    "**Problem #4:** How many *distinct* subpeptides can the *DnaA* protein be broken into? How many *distinct* molecular pathWeight appear in its Theoretical Spectrum?"
   ]
  },
  {
   "cell_type": "code",
   "execution_count": 5,
   "metadata": {
    "collapsed": false,
    "number": 4,
    "section": "answer"
   },
   "outputs": [
    {
     "name": "stdout",
     "output_type": "stream",
     "text": [
      "Subpeptides: 102153 \t pathWeight: 37488\n"
     ]
    }
   ],
   "source": [
    "DnaA =  \"MDAAISELWRKVLAKIEKSLSKPSFDTWLKATKATTLEEDALIVVAPNDFARDWLETRYA\" +\\\n",
    "        \"QLITDTLYEVTGINMKVKFVALQNPDAAFADEQPVPRVKMSEPPTVADDQPPSILNPKYT\" +\\\n",
    "        \"FDTFVIGSGNRFAHAASLAVAEAPAKAYNPLFIYGGVGLGKTHLMHAIGHYVIQHNPSAK\" +\\\n",
    "        \"VVYLSSEKFTNEFINSIRDNKAVEFRNKYRSVDVLLIDDIQFLAGKESTQEEFFHTFNAL\" +\\\n",
    "        \"HEESKQIIISSDRPPKEIPTLEDRLRSRFEWGLITDIQPPDLETRIAILRKKAKAENLDI\" +\\\n",
    "        \"PNEVMAYIANQIDSNIRELEGALIRVVAYSSLINRDIDTQLAAEALKDIIPSSRPRVITI\" +\\\n",
    "        \"IDIQRTVGEAFSLKLEDFKAKKRTKTVAFPRQIAMYLSRELTDASLPKIGDEFGGRDHTT\" +\\\n",
    "        \"VIHAHEKISRALANDPHMQTTIQSLIEKLKANH\"\n",
    "\n",
    "def TheoreticalSpectrum(peptide):\n",
    "    # Generate every possible fragment of a peptide\n",
    "    spectrum = set()\n",
    "    for fragLength in xrange(1,len(peptide)+1):\n",
    "        for start in xrange(0,len(peptide)-fragLength+1):\n",
    "            seq = peptide[start:start+fragLength]\n",
    "            spectrum.add(sum([Daltons[res] for res in seq]))\n",
    "    return sorted(spectrum)\n",
    "\n",
    "peptide = DnaA\n",
    "spectrum = TheoreticalSpectrum(peptide)\n",
    "\n",
    "fragList = list()\n",
    "\n",
    "for fragLength in xrange(1,len(peptide)+1):\n",
    "    for start in xrange(0,len(peptide)-fragLength+1):\n",
    "        seq = peptide[start:start+fragLength]\n",
    "        fragList.append((sum([Daltons[res] for res in seq]), seq))\n",
    "\n",
    "print 'Subpeptides: {} \\t pathWeight: {}'.format(len(set(fragList)), len(spectrum))\n"
   ]
  },
  {
   "cell_type": "markdown",
   "metadata": {},
   "source": [
    "Subpeptides: 102153 \t pathWeight: 37488"
   ]
  },
  {
   "cell_type": "markdown",
   "metadata": {
    "number": 5,
    "section": "problem"
   },
   "source": [
    "**Problem #5: Programming Problem**\n",
    "\n",
    "Given a collection of strings, a larger string containing every one of the smaller strings as a substring is called a superstring. Assuming parsimony, the shortest possible superstring over a collection of reads serves as a candidate chromosome.\n",
    "\n",
    "Write a program that inputs at most 50 DNA strings <strike>whose lengths do not exceed 100 bp</strike> in FASTA format (which represent reads deriving from sequencing) and outputs a shortest superstring containing all the given strings. The dataset is guaranteed to satisfy the following condition: there exists a unique way to reconstruct the entire chromosome from these reads by gluing together pairs of reads that overlap by at least 9 basepairs <strike>half their length</strike>. You can assume that all strings are properly *stranded*, meaning that there is no need to consider reverse complements when assembling your path.\n",
    "\n",
    "Sample Dataset:\n",
    "\n",
    "        >Rosalind_56\n",
    "        ATTAGACCTG\n",
    "        >Rosalind_57\n",
    "        CCTGCCGGAA\n",
    "        >Rosalind_58\n",
    "        AGACCTGCCG\n",
    "        >Rosalind_59\n",
    "        GCCGGAATAC\n",
    "       \n",
    "       \n",
    "Sample Output (first line only, the following four lines are for illustration purposes):\n",
    "\n",
    "      \n",
    "                     ATTAGACCTGCCGGAATAC\n",
    "        Rosalind_56  ----------\n",
    "        Rosalind_57        ----------\n",
    "        Rosalind_58     ----------\n",
    "        Rosalind_59           ----------\n",
    "\n",
    "Another sample dataset can be downloaded [*here*](http://csbio.unc.edu/mcmillan/Comp555S17/data/PS2contigs.fa)."
   ]
  },
  {
   "cell_type": "code",
   "execution_count": 8,
   "metadata": {
    "collapsed": false,
    "number": 5,
    "scrolled": false,
    "section": "answer"
   },
   "outputs": [
    {
     "name": "stdout",
     "output_type": "stream",
     "text": [
      "Total chars in PS2Contigs: 4262\n",
      "Max Overlap: 1265\n",
      "Path: [' Contig02: CATGA', ' Contig13: CATCA', ' Contig06: TCATC', ' Contig07: TCATC', ' Contig11: TGATG', ' Contig03: ATCAT', ' Contig05: CATCA', ' Contig04: CATCA', ' Contig08: GTGAT', ' Contig01: TCAGC', ' Contig12: CATCA', ' Contig09: ATCAT', ' Contig10: ATCAT'] \n",
      "Length of Super String: 2997\n",
      "Superstring: CATGATCATCATCATCATCATCATCATCAGCATCGTCATCATCATCATCATCATCATGATCATCATCATCAGCATCATCATCATCATCATCATCATCATCATCATCATCATCATCATCATCATCATCATCATCATCATCATCATCATCATCATCGTCATCAGCATCATCATCATCGTCGGCATGAGCATCATCATCGTCATGATCATCATCATCATCATCATCATCATCATCATCATCATCATCATCATCATCGTCATCGTCATGGTCATCATCATCATCATCATCATCATCATCATCATCATCATCATCATCATCATCGTCATCGGCATCATCATCATCATCGTCATCATCATCATCATCATCATCATCATCATCATCATCATCATCATCATCATCATCGTCATGATCATCATCATCGTCATCATCATGGTCATCATCATCATCGTCATCATCGTCATCATCATCATGATCATCAGGGTCATCATCATCATCATCATCATCATCATCATCATCATCATCATCATCATCATCATCATCATCATCATCATCAGCATCATCATCATGATCAGCATCATCGTCATCATCATCATCATCATCAGCATCATCATCGTCATCATCATCATCAGCATCATCATCATCATCAGCATCATCATCATCAGCATCATCATCATCATCATCATCATCATCATGAGCATCATCATCATCATCATCATCATCATCATCATCATGATCATCAGCATCATCATCATCATGATCATCATCAGCATCGTCATCATCATCATCATCATCATCATCATCATCATCATCATCATCATCATCATCATCATCATCATCATCATCATCATCATCATCATCATGATCATCATCATCATCATCATCATCATCATCATCATCATCATCATCATCATCATCATCATCATCATCATCATCATCGTCATCATCATGATCATCATCAGGATCATCATCATCATGATGATCATCATCATCATCATCATCATCATCATCATCATCGTCATCATGATCATCATCATCGTCATCATCATCGTCAGCATCAGCATCATCATCATCATCATCATCATCATCATCATCATGATCAGCATCATCATCATCATCATCATCAGGATCATCATCATCATCATCATCATCATCATCATCATCATCATCATCGTCATCATCATCATCATCATCATCATCATCATGATCATCATCATGATCAGCGTCATCATCATCATCATCATCATCAGCATCATCATCATCGTCATCATGATCATCATCATCATCATCATGAGCATCATCATCAGCATCATCATCATCATCATCATCATCATCATCATCATCATCATCATCATCATCATCATGATCATCATCATCATCATCATGATCATCATCATCGTCAGCATCATCATCATCATCATCATCATCATCATGATCATCGTCATCATCATCATCATCATCATCATCATCATCATCATGATCATGATCATGGTCATCATGATCATCATCATCATCATCATCATCATCATCATCATGATCATCATCATCATCATCATCAGCATCGGCATCATCATCATCATCATGGTCATCATCATCATCATCGTCATGATCATCATCATCATCATCATCAGCATCATCATCATCAGCAGCATCATCATCATCGTGATCATCATCGTCATCATCATCATCATCATCATCATCATCATCAGGATCATCATCATCATCATCATCGTCATGATCATCATCATCATCATCGTCATCATCATCATCAGCATCATCATCAGCATCATCATCATCATCATCAGCATCATCATCATCAGGATGATCGTCGTGAGCATCATCATCATCATCATCATCATCATCATCATCATCATCGTCATGATCATGATCATCATGAGCATCATCATCATCATCATCATCATCATCATCATCATGATGATGATCATCATCAGCATCATCATCATCATCATCATCATCATCATCATCAGCATCATCAGCATCATCATCATCATCATCATCATCATCAGCATCATCATCAGCATCATCATCGTCATCATCATCATCATCATCATCATCATCATCATCATCATCATCATCATCATCATCATCATCATCATCATCATCATCATGATGATCATCATCATCATCATCGTCATGGTGATCATCATCATCATGATCATCAGCAGCATCATCATCGTCATCATCATCATGATCAGCATCATCATCATCATCATCATCATCATCATCATCATCATCAGCGTCATGATCATCATCATCATCATCATCATCAGCATGATCATCATCATCATCATCATCATCATCATGATCATCATCATCAGCATCATCAGCATCATCATCATCATCATCATGATCATCATCATCATCATCATCATCATCATCATCATCATGATCATCATCATCATCATCATCATCATCATCAGGATCATCATCATCATCATCATCATCATCATCATCATCATGATCATCATCATCATCATCATGATCGTCATCATCATCAGCATCATCATCATCATCGTCATCATCAGGATCATCAGCATCATCATCATCATCATCATCATCATCATCAGCGTCATCATGATCAGCATCATCATCATCATCATCATCATCATCATGAGCATCATCATCAGCATCATCATCATCATGATCATCATCATCATCATCGTCATCATCATCATCATGATCATCATCATCATCATCATCATCATCATCAGCATCGTCATCATCATCATCATCATCATCATCATCATCAGGATCATCATCGTCATCGTCATCATCATCATCATCATCATCATCATCATCATCATCATCATCATCAGCATCATCAGCATCATCATCATCATCATCATCATCATCATCATCATCATCATCATCATCATCATCATGATGATCATGAGCATCGTCAGCAGCATCATCATCATCGTCATCATCATCATCATCATCATCATCGTCATCATCGTCATCATCATCATCATCAGCATCAG\n"
     ]
    }
   ],
   "source": [
    "class Graph:\n",
    "    def __init__(self, vlist=[]):\n",
    "        \"\"\" Initialize a Graph with an optional vertex list \"\"\"\n",
    "        self.index = {v:i for i,v in enumerate(vlist)}\n",
    "        self.vertex = {i:v for i,v in enumerate(vlist)}\n",
    "        self.edge = {}\n",
    "        self.degIn = {}\n",
    "        self.degOut = {}\n",
    "        for v in self.vertex.keys():\n",
    "            self.degIn[v] = 0\n",
    "            self.degOut[v] = 0\n",
    "    def addEdge(self, vsrc, vdst, weight=0, label=''):\n",
    "        \"\"\" Add a directed edge to the graph, with an optional label. \n",
    "        Repeated edges are distinct, unless repeats is set to False. \"\"\"\n",
    "        self.degOut[vsrc] += 1\n",
    "        self.degIn[vdst] += 1\n",
    "        e = (vdst, weight)\n",
    "        if (e not in self.edge):\n",
    "            self.edge[vsrc] = self.edge.get(vsrc, []) + [e]\n",
    "    def HamiltonianPathFinder(self, vsrc, weight, path):\n",
    "        \"\"\" A recursive Branch-and-Bound Hamiltonian Path search. \n",
    "        Paths are extended one node at a time using only available\n",
    "        edges from the graph. \"\"\"\n",
    "        \n",
    "        if weight == 0:\n",
    "            path = [vsrc]\n",
    "        if len(path) == len(self.vertex):\n",
    "            hamiltonianPaths.append(path)\n",
    "            hamiltonianPaths.append(weight)\n",
    "            return hamiltonianPaths\n",
    "        if self.degOut[vsrc] == 0:\n",
    "            if len(path) == len(self.vertex):\n",
    "                hamiltonianPaths.append(path+[vsrc])\n",
    "                hamiltonianPaths.append(weight)\n",
    "                return hamiltonianPaths\n",
    "            else:\n",
    "                return\n",
    "        else:\n",
    "            for i in self.edge[vsrc]:\n",
    "                outedges = []\n",
    "                if i[0] not in path:\n",
    "                    tWeight = weight + i[1]\n",
    "                    e = (i[0], tWeight)\n",
    "                    self.HamiltonianPathFinder(e[0], e[1], path+[e[0]])                \n",
    "                    \n",
    "#**************************************************************************************#                 \n",
    "   \n",
    "def loadFasta(filename):\n",
    "    fp = open(filename, 'rb')\n",
    "    data = fp.read().split('>')\n",
    "    fp.close\n",
    "    data.pop(0)\n",
    "    headers = []\n",
    "    sequences = []\n",
    "    for sequence in data:\n",
    "        lines = sequence.split('\\n')\n",
    "        headers.append(lines.pop(0))\n",
    "        sequences.append(''.join(lines))\n",
    "    return (headers, sequences)\n",
    "\n",
    "def Overlap(suffix, prefix):\n",
    "    N = 0\n",
    "    for i in xrange(min(len(suffix), len(prefix)), 8, -1):\n",
    "        if suffix[-i:] == prefix[:i]:\n",
    "            N = i\n",
    "            break\n",
    "    return N\n",
    "\n",
    "#**************************************************************************************#\n",
    "\n",
    "head, seq = loadFasta('PS2contigs.fa')\n",
    "# Total paths hashed by their total weight\n",
    "pathWeight = {}\n",
    "# Edge weight hashed by index: [vsrc,vdst]\n",
    "edgeWeights = {}\n",
    "# List of all possible Hamiltonian Paths #\n",
    "hamiltonianPaths = []\n",
    "\n",
    "# Initialize the graph of vertices #\n",
    "contigGraph = Graph(seq)\n",
    "\n",
    "# Connect vertices with wieghted edges #\n",
    "for i in xrange(len(seq)):\n",
    "    for j in xrange(len(seq)):\n",
    "        if i == j:\n",
    "            continue\n",
    "        else:\n",
    "            eWeight = Overlap(seq[i], seq[j])\n",
    "            if (eWeight > 0):\n",
    "                contigGraph.addEdge(i, j, eWeight)\n",
    "                edgeWeights[i,j] = eWeight\n",
    "                \n",
    "# Find a path for each starting vertex\n",
    "for i in xrange(len(seq)):\n",
    "    path = contigGraph.HamiltonianPathFinder(i, 0, [i])\n",
    "\n",
    "#******************************* Post Processing ********************************#\n",
    "\n",
    "# Hash paths by their edgeWeights #\n",
    "for e in xrange(0,len(hamiltonianPaths),2):\n",
    "    pathWeight[hamiltonianPaths[e+1]] = hamiltonianPaths[e]\n",
    "    \n",
    "# Sum of all chars in the list of contigs\n",
    "print 'Total chars in PS2Contigs: {}'.format(sum([len(seq[i]) for i in xrange(13)]))\n",
    "\n",
    "# Maximum overlap of all paths in the graph\n",
    "maxOverlap = max([key for key in pathWeight.keys()])\n",
    "print 'Max Overlap: {}'.format(maxOverlap)\n",
    "\n",
    "# Path through the nodes\n",
    "path = pathWeight[maxOverlap]\n",
    "print 'Path: {} '.format([''.join(head[i] + ': ' + seq[i][:5]) for i in path])\n",
    "    \n",
    "# Superstring and its Length in a spaghetti one-liner\n",
    "ans = seq[path[0]] + ''.join([seq[path[i]][edgeWeights[path[i-1],path[i]]:] for i in xrange(1,len(path))])\n",
    "print 'Length of Super String: {}'.format(len(ans))\n",
    "print 'Superstring: {}'.format(ans)"
   ]
  },
  {
   "cell_type": "markdown",
   "metadata": {},
   "source": [
    "Total chars in PS2Contigs: 4262\n",
    "Max Overlap: 1265\n",
    "Path: [' Contig02: CATGA', ' Contig13: CATCA', ' Contig06: TCATC', ' Contig07: TCATC', ' Contig11: TGATG', ' Contig03: ATCAT', ' Contig05: CATCA', ' Contig04: CATCA', ' Contig08: GTGAT', ' Contig01: TCAGC', ' Contig12: CATCA', ' Contig09: ATCAT', ' Contig10: ATCAT'] \n",
    "Length of Super String: 2997\n",
    "Superstring: CATGATCATCATCATCATCATCATCATCAGCATCGTCATCATCATCATCATCATCATGATCATCATCATCAGCATCATCATCATCATCATCATCATCATCATCATCATCATCATCATCATCATCATCATCATCATCATCATCATCATCATCATCGTCATCAGCATCATCATCATCGTCGGCATGAGCATCATCATCGTCATGATCATCATCATCATCATCATCATCATCATCATCATCATCATCATCATCATCGTCATCGTCATGGTCATCATCATCATCATCATCATCATCATCATCATCATCATCATCATCATCATCGTCATCGGCATCATCATCATCATCGTCATCATCATCATCATCATCATCATCATCATCATCATCATCATCATCATCATCATCGTCATGATCATCATCATCGTCATCATCATGGTCATCATCATCATCGTCATCATCGTCATCATCATCATGATCATCAGGGTCATCATCATCATCATCATCATCATCATCATCATCATCATCATCATCATCATCATCATCATCATCATCATCAGCATCATCATCATGATCAGCATCATCGTCATCATCATCATCATCATCAGCATCATCATCGTCATCATCATCATCAGCATCATCATCATCATCAGCATCATCATCATCAGCATCATCATCATCATCATCATCATCATCATGAGCATCATCATCATCATCATCATCATCATCATCATCATGATCATCAGCATCATCATCATCATGATCATCATCAGCATCGTCATCATCATCATCATCATCATCATCATCATCATCATCATCATCATCATCATCATCATCATCATCATCATCATCATCATCATCATCATGATCATCATCATCATCATCATCATCATCATCATCATCATCATCATCATCATCATCATCATCATCATCATCATCATCGTCATCATCATGATCATCATCAGGATCATCATCATCATGATGATCATCATCATCATCATCATCATCATCATCATCATCGTCATCATGATCATCATCATCGTCATCATCATCGTCAGCATCAGCATCATCATCATCATCATCATCATCATCATCATCATGATCAGCATCATCATCATCATCATCATCAGGATCATCATCATCATCATCATCATCATCATCATCATCATCATCATCGTCATCATCATCATCATCATCATCATCATCATGATCATCATCATGATCAGCGTCATCATCATCATCATCATCATCAGCATCATCATCATCGTCATCATGATCATCATCATCATCATCATGAGCATCATCATCAGCATCATCATCATCATCATCATCATCATCATCATCATCATCATCATCATCATCATCATGATCATCATCATCATCATCATGATCATCATCATCGTCAGCATCATCATCATCATCATCATCATCATCATGATCATCGTCATCATCATCATCATCATCATCATCATCATCATCATGATCATGATCATGGTCATCATGATCATCATCATCATCATCATCATCATCATCATCATGATCATCATCATCATCATCATCAGCATCGGCATCATCATCATCATCATGGTCATCATCATCATCATCGTCATGATCATCATCATCATCATCATCAGCATCATCATCATCAGCAGCATCATCATCATCGTGATCATCATCGTCATCATCATCATCATCATCATCATCATCATCAGGATCATCATCATCATCATCATCGTCATGATCATCATCATCATCATCGTCATCATCATCATCAGCATCATCATCAGCATCATCATCATCATCATCAGCATCATCATCATCAGGATGATCGTCGTGAGCATCATCATCATCATCATCATCATCATCATCATCATCATCGTCATGATCATGATCATCATGAGCATCATCATCATCATCATCATCATCATCATCATCATGATGATGATCATCATCAGCATCATCATCATCATCATCATCATCATCATCATCAGCATCATCAGCATCATCATCATCATCATCATCATCATCAGCATCATCATCAGCATCATCATCGTCATCATCATCATCATCATCATCATCATCATCATCATCATCATCATCATCATCATCATCATCATCATCATCATCATCATGATGATCATCATCATCATCATCGTCATGGTGATCATCATCATCATGATCATCAGCAGCATCATCATCGTCATCATCATCATGATCAGCATCATCATCATCATCATCATCATCATCATCATCATCATCAGCGTCATGATCATCATCATCATCATCATCATCAGCATGATCATCATCATCATCATCATCATCATCATGATCATCATCATCAGCATCATCAGCATCATCATCATCATCATCATGATCATCATCATCATCATCATCATCATCATCATCATCATGATCATCATCATCATCATCATCATCATCATCAGGATCATCATCATCATCATCATCATCATCATCATCATCATGATCATCATCATCATCATCATGATCGTCATCATCATCAGCATCATCATCATCATCGTCATCATCAGGATCATCAGCATCATCATCATCATCATCATCATCATCATCAGCGTCATCATGATCAGCATCATCATCATCATCATCATCATCATCATGAGCATCATCATCAGCATCATCATCATCATGATCATCATCATCATCATCGTCATCATCATCATCATGATCATCATCATCATCATCATCATCATCATCAGCATCGTCATCATCATCATCATCATCATCATCATCATCAGGATCATCATCGTCATCGTCATCATCATCATCATCATCATCATCATCATCATCATCATCATCATCAGCATCATCAGCATCATCATCATCATCATCATCATCATCATCATCATCATCATCATCATCATCATCATGATGATCATGAGCATCGTCAGCAGCATCATCATCATCGTCATCATCATCATCATCATCATCATCGTCATCATCGTCATCATCATCATCATCAGCATCAG"
   ]
  },
  {
   "cell_type": "markdown",
   "metadata": {
    "section": "submit"
   },
   "source": [
    "Click [here to submit](http://csbio.unc.edu/mcmillan/index.py?run=PS.upload) your completed problem set. **Make sure that you do not overwrite a previous problem set!**"
   ]
  },
  {
   "cell_type": "code",
   "execution_count": null,
   "metadata": {
    "collapsed": true
   },
   "outputs": [],
   "source": []
  }
 ],
 "metadata": {
  "anaconda-cloud": {},
  "kernelspec": {
   "display_name": "Python [default]",
   "language": "python",
   "name": "python2"
  },
  "language_info": {
   "codemirror_mode": {
    "name": "ipython",
    "version": 2
   },
   "file_extension": ".py",
   "mimetype": "text/x-python",
   "name": "python",
   "nbconvert_exporter": "python",
   "pygments_lexer": "ipython2",
   "version": "2.7.12"
  }
 },
 "nbformat": 4,
 "nbformat_minor": 0
}
