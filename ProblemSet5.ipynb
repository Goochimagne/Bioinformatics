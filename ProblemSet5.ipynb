{
 "cells": [
  {
   "cell_type": "markdown",
   "metadata": {
    "section": "header"
   },
   "source": [
    "---\n",
    "<div style=\"text-align: center;\">\n",
    "<h1>The University of North Carolina at Chapel Hill</h1>\n",
    "<h1>Comp 555 BioAlgorithms - Spring 2017</h1>\n",
    "<h1 style=\"font-size: 250%;\">Problem Set #5</h1>\n",
    "<h1>Issued Wednesday, 4/26/2017; Due Wednesday, 4/26/2017</h1>\n",
    "</div>\n",
    "\n",
    "**Homework Information:** These problems are so simple that you only have 70 minutes to complete and turn them in. BTW, they are each worth 4 points, which will be added to the 88 points that everyone will be credited, whether or not that turn in a problem set."
   ]
  },
  {
   "cell_type": "code",
   "execution_count": 1,
   "metadata": {
    "collapsed": false,
    "section": "signature"
   },
   "outputs": [],
   "source": [
    "# Replace the following string values with the requested information\n",
    "class Student:\n",
    "    first = \"Your given name\"\n",
    "    last = \"Your family name\"\n",
    "    onyen = \"Your UNC Onyen\"\n",
    "    pid = \"Your UNC pid\""
   ]
  },
  {
   "cell_type": "markdown",
   "metadata": {
    "number": 1,
    "section": "problem"
   },
   "source": [
    "---\n",
    "**Problem #1:** What are the 4 letters commonly used to represent the nucleotides of DNA?"
   ]
  },
  {
   "cell_type": "raw",
   "metadata": {
    "number": 1,
    "section": "answer"
   },
   "source": [
    "ACGT"
   ]
  },
  {
   "cell_type": "markdown",
   "metadata": {
    "number": 2,
    "section": "problem"
   },
   "source": [
    "---\n",
    "**Problem #2:** How many bases are in a k-mer?"
   ]
  },
  {
   "cell_type": "raw",
   "metadata": {
    "number": 2,
    "section": "answer"
   },
   "source": [
    "k"
   ]
  },
  {
   "cell_type": "markdown",
   "metadata": {
    "number": 3,
    "section": "problem"
   },
   "source": [
    "---\n",
    "**Problem #3:** Why must you enter your problem set answers in the cell supplied?"
   ]
  },
  {
   "cell_type": "raw",
   "metadata": {
    "number": 3,
    "section": "answer"
   },
   "source": [
    "Because you said so!"
   ]
  },
  {
   "cell_type": "markdown",
   "metadata": {
    "section": "submit"
   },
   "source": [
    "Click [here to submit](http://csbio.unc.edu/mcmillan/index.py?run=PS.upload) your completed problem set"
   ]
  }
 ],
 "metadata": {
  "anaconda-cloud": {},
  "kernelspec": {
   "display_name": "Python [default]",
   "language": "python",
   "name": "python2"
  },
  "language_info": {
   "codemirror_mode": {
    "name": "ipython",
    "version": 2
   },
   "file_extension": ".py",
   "mimetype": "text/x-python",
   "name": "python",
   "nbconvert_exporter": "python",
   "pygments_lexer": "ipython2",
   "version": "2.7.12"
  }
 },
 "nbformat": 4,
 "nbformat_minor": 0
}
