{
 "cells": [
  {
   "cell_type": "markdown",
   "metadata": {
    "section": "header"
   },
   "source": [
    "<div style=\"text-align: center;\">\n",
    "<h1>The University of North Carolina at Chapel Hill</h1>\n",
    "<h1>Comp 555 BioAlgorithms - Spring 2017</h1>\n",
    "<h1 style=\"font-size: 250%;\">Final Exam</h1>\n",
    "<h1>Tuesday May 9, 2017</h1>\n",
    "<h2>12:00pm-3:00pm</h2>\n",
    "</div>\n",
    "<br>\n",
    "<br>\n",
    "**Instructions:** Answer all questions ***using the cells*** provided. Feel free to add additional cells to your notebook, but there is no guarantee that they will be considered when grading. If any question seems unclear or appears to lack sufficient information, state a reasonable assumption in the cell provided for your answer and proceed."
   ]
  },
  {
   "cell_type": "code",
   "execution_count": 5,
   "metadata": {
    "collapsed": false,
    "section": "signature"
   },
   "outputs": [],
   "source": [
    "# Replace the following string values with the requested information\n",
    "class Student:\n",
    "    first = \"Nick\"\n",
    "    last = \"Gooch\"\n",
    "    onyen = \"nbgooch\"\n",
    "    pid = \"720052029\""
   ]
  },
  {
   "cell_type": "markdown",
   "metadata": {
    "number": 1,
    "section": "problem"
   },
   "source": [
    "---\n",
    "**Problem #1:** (10 points) Consider the following distance matrix defined for six species A, B, C, D, E, and F:\n",
    "\n",
    "|       |  A |  B |  C |  D |  E |  F |\n",
    "|:-----:|:--:|:--:|:--:|:--:|:--:|:--:|\n",
    "| **A** |  0 |  6 | 22 | 20 | 22 | 26 |\n",
    "| **B** |  6 |  0 | 20 | 18 | 20 | 24 |\n",
    "| **C** | 22 | 20 |  0 |  6 | 24 |  8 |\n",
    "| **D** | 20 | 18 |  6 |  0 | 22 | 10 |\n",
    "| **E** | 22 | 20 | 24 | 22 |  0 | 28 |\n",
    "| **F** | 26 | 24 |  8 | 10 | 28 |  0 |\n",
    "\n",
    "which can be represented by the following Python function:\n",
    "\n",
    "```python\n",
    "def Distance(X,Y):\n",
    "    Edge = {\n",
    "        ('A','B') :  6, ('A','C') : 22, ('A','D') : 20, ('A','E') : 22, ('A','F') : 26,\n",
    "        ('B','C') : 20, ('B','D') : 18, ('B','E') : 20, ('B','F') : 24,\n",
    "        ('C','D') :  6, ('C','E') : 24, ('C','F') :  8,\n",
    "        ('D','E') : 22, ('D','F') : 10,\n",
    "        ('E','F') : 28,\n",
    "    }\n",
    "    return 0 if (X == Y) else Edge[min(X,Y),max(X,Y)]\n",
    "```\n",
    "\n",
    "What will be the distance of every species to the root in an evolutionary tree constructed using the UPGMA tree-construction algorithm?"
   ]
  },
  {
   "cell_type": "raw",
   "metadata": {
    "number": 1,
    "section": "answer"
   },
   "source": [
    "14 max(dist)/2 = (a, f)/2 = 14"
   ]
  },
  {
   "cell_type": "markdown",
   "metadata": {
    "number": 2,
    "section": "problem"
   },
   "source": [
    "---\n",
    "**Problem #2:** (10 points) The distance matrix given in problem 1 is additive. Write a Python function, *degenerateTriple(S1, S2, S3)*, that determines if the given three species form a degenerate triple. Your code should make use of the supplied *Distance(X,Y)* function.\n",
    "\n",
    "Your function should return *None* if the triple isn't degenerate, otherwise it should return the one of its three arguments that lies between the other two. Here is an example call: *degenerateTriple('B','C','D')*, which should return *None*."
   ]
  },
  {
   "cell_type": "code",
   "execution_count": 6,
   "metadata": {
    "collapsed": false,
    "number": 2,
    "section": "answer"
   },
   "outputs": [
    {
     "data": {
      "text/plain": [
       "'D'"
      ]
     },
     "execution_count": 6,
     "metadata": {},
     "output_type": "execute_result"
    }
   ],
   "source": [
    "#Enter your answer to Problem #2 in this cell\n",
    "\n",
    "def Distance(X,Y):\n",
    "    Edge = {\n",
    "        ('A','B') :  6, ('A','C') : 22, ('A','D') : 20, ('A','E') : 22, ('A','F') : 26,\n",
    "        ('B','C') : 20, ('B','D') : 18, ('B','E') : 20, ('B','F') : 24,\n",
    "        ('C','D') :  6, ('C','E') : 24, ('C','F') :  8,\n",
    "        ('D','E') : 22, ('D','F') : 10,\n",
    "        ('E','F') : 28,\n",
    "    }\n",
    "    return 0 if (X == Y) else Edge[min(X,Y),max(X,Y)]\n",
    "\n",
    "def degenerateTriple(S1, S2, S3):\n",
    "    dij = Distance(S1, S2)\n",
    "    djk = Distance(S2, S3)\n",
    "    dik = Distance(S1, S3)\n",
    "    if dij + djk != dik:\n",
    "        return None\n",
    "    else:\n",
    "        return S2\n",
    "    \n",
    "degenerateTriple('B','C','D')"
   ]
  },
  {
   "cell_type": "markdown",
   "metadata": {
    "number": 3,
    "section": "problem"
   },
   "source": [
    "---\n",
    "**Problem #3:** (10 points) What is the *smallest* value that leaf edges would need to be shortened in order for one or more calls to degenerateTriple(), with valid species names, to return a result other than *None*?"
   ]
  },
  {
   "cell_type": "raw",
   "metadata": {
    "collapsed": false,
    "number": 3,
    "section": "answer"
   },
   "source": [
    "4; if we shorten CD by 4 CD = 2, DE = 22, CE = 24"
   ]
  },
  {
   "cell_type": "markdown",
   "metadata": {
    "number": 4,
    "section": "problem"
   },
   "source": [
    "---\n",
    "**Problem #4.** (10 points) In class we discussed how all edges of a suffix tree are labeled by substrings from the given text. However, the edge labels can be derived from the suffix tree's topology if only the first character of the substring for edges originating from the root are provided. In other words suffix trees are completely determined by their topology and alphabet. Consider the following suffix tree:\n",
    "\n",
    "<img src=\"http://csbio.unc.edu/mcmillan/Comp555S17/Media/FinalSuffixTree.png\" width=\"600px\">\n",
    "\n",
    "What string does it represent?"
   ]
  },
  {
   "cell_type": "raw",
   "metadata": {
    "number": 4,
    "section": "answer"
   },
   "source": [
    "AGTTGGACGAAGGTTC$"
   ]
  },
  {
   "cell_type": "markdown",
   "metadata": {
    "number": 5,
    "section": "problem"
   },
   "source": [
    "---\n",
    "**Problem #5.** (10 points) Describe how to find the longest repeated ***non-overlapping*** substring using a suffix tree. \n",
    "\n",
    "For example in the string, *x = \"CATAAAAACAT$\"*, the repeated substrings \"AAAA\" (x[3:7] and x[4:8]) overlap, whereas the repeated substrings \"CAT\" (x[0:3], x[8:11]) do not."
   ]
  },
  {
   "cell_type": "raw",
   "metadata": {
    "number": 5,
    "section": "answer"
   },
   "source": [
    "USing a suffix array this problem is really simple. Once we have the Longest Common Prefix method that just check each suffix against the one above it, it will return us a slice of the string where these prefixes are repeated. Once we have the slice or string indices, it is a simple check. Is the smallest index of my second string bigger than the largest index of my first string. And another check if the string is cyclic."
   ]
  },
  {
   "cell_type": "markdown",
   "metadata": {
    "number": 6,
    "section": "problem"
   },
   "source": [
    "---\n",
    "**Problem #6.** (10 points) Decribe an algorithm for generating the Burrows Wheeler Transform from a string's suffix tree."
   ]
  },
  {
   "cell_type": "raw",
   "metadata": {
    "number": 6,
    "section": "answer"
   },
   "source": [
    "Once we have the suffix tree we just need to find the symbol that comes before each suffix in our suffix tree, or the \"predecessor symbol\" and we have created a BWT from a suffix tree."
   ]
  },
  {
   "cell_type": "markdown",
   "metadata": {
    "number": 7,
    "section": "problem"
   },
   "source": [
    "\n",
    "---\n",
    "**Problem #7.** (10 points) Consider the two possible phylogenetic trees for a given set of four sequences shown below:\n",
    "\n",
    "<table>\n",
    "<tr>\n",
    "<td>Tree A:<br><img src=\"http://csbio.unc.edu/mcmillan/Comp555S17/Media/FinalSPTreeA.png\" width=\"400px\"></td>\n",
    "<td>Tree B:<br><img src=\"http://csbio.unc.edu/mcmillan/Comp555S17/Media/FinalSPTreeB.png\" width=\"400px\"></td>\n",
    "</tr>\n",
    "</table>\n",
    "\n",
    "Solve the small parsimony problems suggested by each tree. Indicate your answer by providing a sequence for each labeled interior node."
   ]
  },
  {
   "cell_type": "raw",
   "metadata": {
    "number": 7,
    "section": "answer"
   },
   "source": [
    "Enter your answers to Problem 7 here\n",
    "\n",
    "A1: TTG\n",
    "A2: TA {C, A} -> TAC \n",
    "A3: {A, T} TG -> TTG\n",
    "\n",
    "B1: TAG \n",
    "B2: {A, T} {A, T} {C,G} -> TAG\n",
    "B3: T {A, T} {G, A} -> TAG\n",
    "\n",
    "Used Fitches alg to take unions on single bp and chose the one that minimized parsimony score."
   ]
  },
  {
   "cell_type": "markdown",
   "metadata": {
    "number": 8,
    "section": "problem"
   },
   "source": [
    "---\n",
    "**Problem #8.** (5 points) Which of the two given trees, A or B, is more parsimonious? Explain why?"
   ]
  },
  {
   "cell_type": "raw",
   "metadata": {
    "number": 8,
    "section": "answer"
   },
   "source": [
    "The first tree has a parsimony score of 4 (unweighted) while the second has a score of 5. The first tree A is more parsimonies because there is less variance among the starting bases, while tree B has only a single shared base among its starting sequences."
   ]
  },
  {
   "cell_type": "markdown",
   "metadata": {
    "number": 9,
    "section": "problem"
   },
   "source": [
    "---\n",
    "At the Unfair-Bet Casino they alternate between using a fair die and a loaded die. However, in order to avoid detection they switch between the dies infrequently (with a probability of 0.1). The loaded die has a 1:2 chance of rolling 6, and a 1:10 chance of all other points. The corresponding Hidden Markov Model is illustrated below.\n",
    "\n",
    "<div align=\"center\"><img src=\"http://csbio.unc.edu/mcmillan/Comp555S17/Media/FinalHMM.png\" width=\"500px\"></div>\n",
    "\n",
    "---\n",
    "**Problem #9.** (5 points) What is the *log-odds-ratio* of the fair die to the loaded die when the following sequence is rolled 1-1-1-1? Use a log with base 2."
   ]
  },
  {
   "cell_type": "raw",
   "metadata": {
    "number": 9,
    "section": "answer"
   },
   "source": [
    "2.95 is greater than 1 so the dealer is most likely using the fair die."
   ]
  },
  {
   "cell_type": "markdown",
   "metadata": {
    "number": 10,
    "section": "problem"
   },
   "source": [
    "---\n",
    "**Problem 10.** (10 points) How many rolls of *6* within a window of size k would suggest, with greater than 50% probability, that the loaded dice is in use?"
   ]
  },
  {
   "cell_type": "raw",
   "metadata": {
    "number": 10,
    "section": "answer"
   },
   "source": [
    "3"
   ]
  },
  {
   "cell_type": "markdown",
   "metadata": {
    "number": 11,
    "section": "problem"
   },
   "source": [
    "---\n",
    "**Problem 11.** (10 points) When a Viterbi decoder is applied to the following series of 80 rolls it predicts the series of die states shown below the sequence. However, the actual state of the die is shown below the predicted states.\n",
    "\n",
    "                   |    |    |    |    |    |    |    |    |    |    |    |    |    |    |    |\n",
    "    Rolls:     61516334115146666566666266662631662314441225616662312315663466664255436426663266\n",
    "    Predicted: FFFFFFFFFFFFFLLLLLLLLLLLLLLLLLLLLLFFFFFFFFFFLLLLLLLLLLLLLLLLLLLLLLLLLLLLLLLLLLLL\n",
    "    Actual:    FFFFFFFFFFFFFLLLLLLLLLLLLLLLLLLLLLLLLFFFFFFFFFFFFFFFFFFFFFFFLLLLLLLLLLLLLLLLLLLL\n",
    "\n",
    "Explain how the Viterbi solution can be so far off from the actual solution. Then describe how the forward-backward solution might provide additional insight."
   ]
  },
  {
   "cell_type": "raw",
   "metadata": {
    "number": 11,
    "section": "answer"
   },
   "source": [
    "Viterbi is not great because it relies to heavily on once being in a certain state to stay in that particular state. So if we have a state change much earlier than expected, a ripple effect can be carried throughout the rest of the states. Also this solution is solely based on maximum probabilities which can often be misleading and dont actually happen. The forward backward approach may help by considering both the outcomes before and after to calculate the current state. This can be much more accurate then the Viterbi solution that just finds the maximum probabilities of each state."
   ]
  },
  {
   "cell_type": "markdown",
   "metadata": {
    "number": 12,
    "section": "problem"
   },
   "source": [
    "---\n",
    "**Problem 12.** (10 points) How many flips are required to transform the sequence \"AACGTT\" to \"TAGCAT\" using a greedy *sequence-reversal* algorithm? Next, see if you can find a second solution that uses fewer flips. Use the following notation for describing your flips:\n",
    "\n",
    "            DIRTYROOM\n",
    "        1. D[IRTYRO]OM\n",
    "        2. DOR[YTRIOM]\n",
    "        3. DORM[OI]RTY\n",
    "        4. DORMI[ORT]Y\n",
    "        5. DORMIT[RO]Y\n",
    "            DORMITORY\n",
    "\n",
    "How does knowing the number of flips used in the greedy solution aid in searching for better solutions?"
   ]
  },
  {
   "cell_type": "raw",
   "metadata": {
    "number": 11,
    "section": "answer"
   },
   "source": [
    "3: \n",
    "1.[AACGT]T -> TGCAAT\n",
    "2.TG[CA]AT -> TGACAT\n",
    "3.T[GA]CAT -> TAGCAT\n",
    "I couldnt do it in less than 5 flips, but we now know that a greedy solution is bounded by 5 flips and should take no more than that. If we maximize by getting 2 letters per flip, we could do it in 4 since we have 8 letters to rearrage.\n",
    "By knowing how many flips we need we can bound how many letters we need to put into place with each flip and we can guarantee what is otherwise an approximation algorithm. If we know the maximum amount of letters we can arrange with each flip we can make a good decision on what to flip."
   ]
  },
  {
   "cell_type": "markdown",
   "metadata": {
    "number": 13,
    "section": "problem"
   },
   "source": [
    "---\n",
    "**Last Call:** If you have any remaining issues with problem-set grading describe them in the following cell. Indicate clearly the *problem set* and the *problem number* for each issue."
   ]
  },
  {
   "cell_type": "raw",
   "metadata": {
    "number": 13,
    "section": "answer"
   },
   "source": [
    "Problem Set 3 #5 I know you wont like this, but my original had a length in the checked cell not the actual string. I resubmitted with the string in the cell but if you check my original it was there just under the cell with the length in it.\n",
    "Problem Set #5 I was here in class and submitted but I still have an 88. Hopefully I did not get all of them wrong so I also resumbitted that."
   ]
  },
  {
   "cell_type": "markdown",
   "metadata": {
    "section": "submit"
   },
   "source": [
    "Click [here to submit](http://csbio.unc.edu/mcmillan/index.py?run=Exam.upload) turn in your Examination"
   ]
  }
 ],
 "metadata": {
  "anaconda-cloud": {},
  "kernelspec": {
   "display_name": "Python [default]",
   "language": "python",
   "name": "python2"
  },
  "language_info": {
   "codemirror_mode": {
    "name": "ipython",
    "version": 2
   },
   "file_extension": ".py",
   "mimetype": "text/x-python",
   "name": "python",
   "nbconvert_exporter": "python",
   "pygments_lexer": "ipython2",
   "version": "2.7.12"
  }
 },
 "nbformat": 4,
 "nbformat_minor": 0
}
