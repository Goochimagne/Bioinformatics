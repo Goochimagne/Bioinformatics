{
 "cells": [
  {
   "cell_type": "code",
   "execution_count": 16,
   "metadata": {
    "collapsed": false
   },
   "outputs": [
    {
     "data": {
      "text/plain": [
       "'219 264 247 250'"
      ]
     },
     "execution_count": 16,
     "metadata": {},
     "output_type": "execute_result"
    }
   ],
   "source": [
    "## Count Bases ##\n",
    "\n",
    "s = 'ACACCCGGAGCCAACTAATATGACCATATTCATCCGTAACATCCCTTCAGGAGCTGGCCGGGTTTTGTCGGGGCATGGCCCTTCGCTATCCGCAAACTTTCCATGTACCCTAACAGTACGTTGTTCCCTTAGACGTGCCCGCTTGAACACACCACATGCCCGTCTTGGGTTACTGGGAGCCGACCTCAAGTTAGCCGGTGCCAACAAATGGGAAATATCGCTACACGATATCGGCGCCTGTCGAGACGTCGCACATTTCATTTTTACCTGGTGGTCTGTGCGCCCTGAAAATCCAGTTGATGGTATGACGTTCACAGATGGGTACCCGTTAGAAGCACCCAGCATGGTCAGTAACTGAAACCCGTAATTCACTCCTGGCTGACCGTCGTTACATAGAAACGGCGGTCCTATCTACTTATAGTCCAATAGATCTCGAGGATGTGATTAGGTGTCAAATGCACCTGTACCTTATTCCGATCAAGTCTCCATCGACTGCCGCGGTGAAAGGGTATCGATTGATCCACTCGGCGCACCGGCCACAACGAGATAGTTTGGGAGTTACTCTCTGTAGAAGGCATACTCTATTCGGGCTAACGGAAGGCCTCTCCTCGGTCTTGCTAAGGAGTCTCATTGTACTCGCGGTTTGCGGGATTTTAGGGGGGTCAGTATGTTTTCCTCAAGGCGCCAGTGAGATACGGCAAGAATAGAGGCCGCTTTGCCTGTCCGTCCGGGGATGACTAACCTAGGATATACCCTTTCGCACTTACCACTCTGCGAATTGCGGTCTGACGTTAAAATCACCGGAGCTAACGGATTGATGGGTGGGTATGCTAGAGCCCCCGGCGAGTTTATTCTGCACGCCAAGGCACCCGCTGCCTACCCTATATACTACGTCTGGTTTCAGACCAACGAGCAGCCTAGTTATGCACTGATACTCGGTTTGACAGGGCGTCGGCGTGCGCTCACTTGATCTTCCGAGT'\n",
    "\n",
    "baseCounter = dict()\n",
    "\n",
    "for base in \"ACGT\":\n",
    "    baseCounter[base] = 0\n",
    "\n",
    "for i in s:\n",
    "    baseCounter[i] += 1\n",
    "\"{} {} {} {}\".format(baseCounter['A'], baseCounter['C'], baseCounter['G'], baseCounter['T'])\n",
    "            \n",
    "\n"
   ]
  },
  {
   "cell_type": "code",
   "execution_count": 22,
   "metadata": {
    "collapsed": true
   },
   "outputs": [
    {
     "name": "stdout",
     "output_type": "stream",
     "text": [
      "ACACUCCGUAUGCCUUGGUUGAAGGUACUUCCCGCCGUAGGUCCUUGUCAGAUCGACCGAAGUGUACGUUCCCUGGUAGCGAAGUGGAUUCGGCGGAAUUAUGUUGCACAGCGUAUCGUCCUAUCGGUCUACUAAAAUUAUCGAGAAUUUGGCGGGUUUCCAAUGCACACGACCUACACCUCGGGCCCCGCGUGAGGCUAUUUUAGUGGCCAUGCACAUUCUACGUGAAUUUACACCCAGCUCAGAAAGCACAUCAUUGAGCCUAGGAGUCGGGAGACCGCUCAUUCUAGAAGUUAGCCAAACCGUGUCACGCUUUUUGGUAAGUCAAGCCUUGUGUGUGUACCAAAUAGGCUCAAGAUCCGACUUUAACUAUGUAAUUCUAGGGGCUACCCGGUGGACCGUCGCAUCCCCUACGACUGUUGCUGCCAGACCACUGGCGUAAGUCGCCUCCCGAGCACUGACAGUGUGAAAUAUCGCCGUCCCGUAUUCGAUGGCUUUUUUUAUGUGUACCCUGUGAGGCGGAAUUUGUAUAAAACCGCGAGGUCUCUCAUCCCAUUGGGAGCCCCCUGGCGGUAAUAAAAGAGAGCUUCCUCACGUCGCAAUUAGAGUCCCUUGCUACGCUUCCUUUCUUCUAGUAGACAAUUACGACUGCAAGUUUUCAUAUAACCCAUCCGGAAUAUACAUCAACACCUAGCAGCUCGGGCAUCACCCCAAACGUACAUUUAAAUACAAGUUUGUCAUAGGUCCUUACCAUCUUAUCCUUUCGGAUGUAGCGCGUCAAGGAGGGCUAAGUAAUACGCGACAGCAUCCCUAUCUCAGGUAUCUAGAUGAGAUCUUAUAAGGAUCUCGUUUCUUGUCGAAAAGAUCCCCCCUAGGUAGUAGCGAAGAGCAGACUACAUGCGCUGUACGUCAAGCCUCCCAAAAAAGCUGAUGUGAAACGUCAAGCACUAGCGUGACAGCCGGCAUUGGGACGCAAUGUAAAGUAGCACGC\n"
     ]
    }
   ],
   "source": [
    "## DNA -> RNA\n",
    "\n",
    "DNA = 'ACACTCCGTATGCCTTGGTTGAAGGTACTTCCCGCCGTAGGTCCTTGTCAGATCGACCGAAGTGTACGTTCCCTGGTAGCGAAGTGGATTCGGCGGAATTATGTTGCACAGCGTATCGTCCTATCGGTCTACTAAAATTATCGAGAATTTGGCGGGTTTCCAATGCACACGACCTACACCTCGGGCCCCGCGTGAGGCTATTTTAGTGGCCATGCACATTCTACGTGAATTTACACCCAGCTCAGAAAGCACATCATTGAGCCTAGGAGTCGGGAGACCGCTCATTCTAGAAGTTAGCCAAACCGTGTCACGCTTTTTGGTAAGTCAAGCCTTGTGTGTGTACCAAATAGGCTCAAGATCCGACTTTAACTATGTAATTCTAGGGGCTACCCGGTGGACCGTCGCATCCCCTACGACTGTTGCTGCCAGACCACTGGCGTAAGTCGCCTCCCGAGCACTGACAGTGTGAAATATCGCCGTCCCGTATTCGATGGCTTTTTTTATGTGTACCCTGTGAGGCGGAATTTGTATAAAACCGCGAGGTCTCTCATCCCATTGGGAGCCCCCTGGCGGTAATAAAAGAGAGCTTCCTCACGTCGCAATTAGAGTCCCTTGCTACGCTTCCTTTCTTCTAGTAGACAATTACGACTGCAAGTTTTCATATAACCCATCCGGAATATACATCAACACCTAGCAGCTCGGGCATCACCCCAAACGTACATTTAAATACAAGTTTGTCATAGGTCCTTACCATCTTATCCTTTCGGATGTAGCGCGTCAAGGAGGGCTAAGTAATACGCGACAGCATCCCTATCTCAGGTATCTAGATGAGATCTTATAAGGATCTCGTTTCTTGTCGAAAAGATCCCCCCTAGGTAGTAGCGAAGAGCAGACTACATGCGCTGTACGTCAAGCCTCCCAAAAAAGCTGATGTGAAACGTCAAGCACTAGCGTGACAGCCGGCATTGGGACGCAATGTAAAGTAGCACGC'\n",
    "\n",
    "RNA = ''.join([{'T':'U', 'G':'G','C':'C','A':'A'}[base] for base in (DNA)])\n",
    "print RNA"
   ]
  },
  {
   "cell_type": "code",
   "execution_count": 24,
   "metadata": {
    "collapsed": true
   },
   "outputs": [
    {
     "name": "stdout",
     "output_type": "stream",
     "text": [
      "GGATCGCGGATCCTTCGTCGTTGTACCCACCACCTGACGTCCCCCAGTCTTGTATTGAATCATGTATGCACATCACGAACACGAGTTCACGCAGACGCGGACCTCACCGGTCAGTAGTTAGGTAGAACTCCAACTTATAGGGGTGTGCAACCAGGAGTCGACATGATGTCTACAACATACCTGGCTCATTAGTTACCTTGTGCCTTCGGTCGTTTAGTCTCAAAATCTTGATTGGAACGCGATCAACACATTGTTTGCTGGCGCTGTCATCGACAATCGCCGCATGATCTGATAACCAATCCGCTTCAGACCTTCAGAGAAATAGGCGGGGATCTTCCTATGTGGTCGTAACCTAACTCTATGTAGAAGCCATCGGTATTTGCCACCCTCACCGCACGGTAGTTTGGTTAGTCGACGGATCCATTCGTTGCCCCAAGCTTGCTGGAGGAGGCGTTACCCTGTTGGTTCCATTGTGTGAGCCTTTACGACCTGAGGAACATCCCCTCTCAGAAGAGGGCATATGTCTTATGTATCCCTGAGGTATGATCGGATGTTGGGCGAACCTTCAGCCGTGTCCATCGGTCATGGTCCCCTTGGTACCCCAGATAGCCGGAGGAGACTTCTTCGAGTATCAGCAATCAACCCTAATTCAAAACCAGTTTGCTCTAGCATCCCTTGTGAGGGACGCTCCGTGTTGAACATCGCCACTCGGCGTCACATCACCAGCTTTCTCCCCCAACACTATGAGGCACGTCTTGGGCGCAGTACCATCCTTTTATTCTGAGACCCAGTTAGCCAATATGACAAGACGGCTGACTCTTTTAGTAGACAAGGAATGGTCTATAGCGTTT\n"
     ]
    }
   ],
   "source": [
    "## Reverse Compliment ##\n",
    "\n",
    "DNA = 'AAACGCTATAGACCATTCCTTGTCTACTAAAAGAGTCAGCCGTCTTGTCATATTGGCTAACTGGGTCTCAGAATAAAAGGATGGTACTGCGCCCAAGACGTGCCTCATAGTGTTGGGGGAGAAAGCTGGTGATGTGACGCCGAGTGGCGATGTTCAACACGGAGCGTCCCTCACAAGGGATGCTAGAGCAAACTGGTTTTGAATTAGGGTTGATTGCTGATACTCGAAGAAGTCTCCTCCGGCTATCTGGGGTACCAAGGGGACCATGACCGATGGACACGGCTGAAGGTTCGCCCAACATCCGATCATACCTCAGGGATACATAAGACATATGCCCTCTTCTGAGAGGGGATGTTCCTCAGGTCGTAAAGGCTCACACAATGGAACCAACAGGGTAACGCCTCCTCCAGCAAGCTTGGGGCAACGAATGGATCCGTCGACTAACCAAACTACCGTGCGGTGAGGGTGGCAAATACCGATGGCTTCTACATAGAGTTAGGTTACGACCACATAGGAAGATCCCCGCCTATTTCTCTGAAGGTCTGAAGCGGATTGGTTATCAGATCATGCGGCGATTGTCGATGACAGCGCCAGCAAACAATGTGTTGATCGCGTTCCAATCAAGATTTTGAGACTAAACGACCGAAGGCACAAGGTAACTAATGAGCCAGGTATGTTGTAGACATCATGTCGACTCCTGGTTGCACACCCCTATAAGTTGGAGTTCTACCTAACTACTGACCGGTGAGGTCCGCGTCTGCGTGAACTCGTGTTCGTGATGTGCATACATGATTCAATACAAGACTGGGGGACGTCAGGTGGTGGGTACAACGACGAAGGATCCGCGATCC'\n",
    "\n",
    "revComp = ''.join([{'A':'T','C':'G','G':'C','T':'A'}[base] for base in reversed(DNA)])\n",
    "print revComp"
   ]
  },
  {
   "cell_type": "code",
   "execution_count": 25,
   "metadata": {
    "collapsed": false
   },
   "outputs": [
    {
     "name": "stdout",
     "output_type": "stream",
     "text": [
      "1323839213083\n"
     ]
    }
   ],
   "source": [
    "## Fibonacci Breeding ##\n",
    "\n",
    "def rabbits(generations, pairsPerLitter):\n",
    "        sequence = [0,1]\n",
    "        while (len(sequence) - 1 < generations):\n",
    "            sequence.append(sequence[-2]*pairsPerLitter + sequence[-1])\n",
    "       \n",
    "        return sequence[-1]\n",
    "        \n",
    "print rabbits(35, 3)"
   ]
  },
  {
   "cell_type": "code",
   "execution_count": 75,
   "metadata": {
    "collapsed": true
   },
   "outputs": [
    {
     "name": "stdout",
     "output_type": "stream",
     "text": [
      "{'Rosalind_1968': 49.523809523809526}\n",
      "{'Rosalind_4748': 51.957671957671955}\n",
      "{'Rosalind_2408': 51.13636363636363}\n",
      "{'Rosalind_0699': 47.765957446808514}\n",
      "{'Rosalind_9588': 51.55210643015521}\n",
      "{'Rosalind_6405': 49.13793103448276}\n",
      "{'Rosalind_3464': 51.54761904761905}\n",
      "{'Rosalind_9039': 54.8421052631579}\n"
     ]
    }
   ],
   "source": [
    "## GC Content ##\n",
    "\n",
    "import operator\n",
    "\n",
    "\n",
    "fasta = \"\"\"\"\"\"\n",
    "\n",
    "data = fasta.split('>')\n",
    "\n",
    "for seq in data:\n",
    "    gcCount = {}\n",
    "    if (seq == ''):\n",
    "        continue\n",
    "    line = seq.split('\\n')\n",
    "    header = line.pop(0)\n",
    "    dna = ''.join(line)\n",
    "    gcCount[header] = 0\n",
    "    gcCount[header] = gcCount.get(header,0)+(100*(dna.count('C') + dna.count('G'))) / float(len(dna))\n",
    "    print gcCount"
   ]
  },
  {
   "cell_type": "code",
   "execution_count": 77,
   "metadata": {
    "collapsed": false
   },
   "outputs": [
    {
     "name": "stdout",
     "output_type": "stream",
     "text": [
      "490\n"
     ]
    }
   ],
   "source": [
    "## Hamming Distance ##\n",
    "\n",
    "a = 'GTTGCGGAGTACCACGGCTGGTGTTAAGACGATGCGGCGCGTGAATTTGAAGAACGGAGTGCAGCTCAGGTTGCGCATTATTCGGAGAGTTTCCACCAGGAGGCATATAAATGCAGACTCGACCATAAGCCATCGGTCCTAAAACAATGCAAACGGGGCTCGTAGAGGGATACGTGAGTAACAGTCCGCTGGTCATAGTGCAGGTTTTATGCACATGCGCAGCGGAGGCGTGGCAATAATTCACCCGCGCCCTCAGTTGCTTATGATTACAGCACGGTTGAGTCGATTTGTGACTGAACAGCGGACTAGTTAATTTGCCAGCTTGCTGTACCTAGGTGGGCCGTCTGCGTCTAGCTTGTGAAGCAAATTCAGCTAAAACTCGACCAGTCATCTTCGGCGCACCACGCGACGGCACCTTGGTCGCACGTGTTCTCACCATTTAATACGGCACTCTATCAAATACGGCGAGACCGGGCGGTCAATGGGCGAACGAGCACTGTTGGTACCAGGCGCGGTGTGCCGATAATAGTTAGTGCGGTCTACCGCTTTTCTGTACGCTTCACTTTTAAAGACTGTGATGGCACTTGAAGTCAGCTCCTAAAAGCTTCCCCATTATACCAGCGAAACTAGTACCAGCAACACCTGCCCGAGTGGGCTACATCGTCGCTTGTAACATCCGGAGGCCTACCTACGCACCTATCGGACCAAGGAAGAAACTGTAAAGGAGATCCCTAAAGACTGTGTTTGCCGAGGTAGAACGGTGCAGTTAGCAGTATGCGACACTGGCATTAGGTTTCATCAGCTTGCTTTACTAGCAGTGACTGACTGCCTGGTCGCCCAGCATTTCACTCCATTGTCGTTTCAGGGGTGTGTCAGTCTCCCCAACTTACGCTATGCACTAGCACACTCGTCACAGCGCTCTGAGTTGAATCTAATTGTATTTTAGCTGACCAACCCAAGTTGTAGACGAGCCGCAAC'\n",
    "b = 'ATTACAGTGGCCCAAAGGTGCTCTTGAACGTATACTGCCGCTGAAGTTGCATCAAGCATTCGCTCCCGCCCTGCGAAACATGTGCAGAGCATCAAAGGAGAACGATTTAGTTGCAGATCCGACGGAAGATATTCGAAACGAACTCTCGAGCACCGGGGATGGTTCTAGAAGCACGGAAGGGCAGGCGAGTGGAAGCCGTCTAGAGAATGGGCTAGGCGAAGGAGAACGATCGGCAATAGTTTTCCGGAGCACATAGGGCTCTTTAATGAGATTATCGTCAAGTCGATGGTTGCTGGACGAATGGTCAACTAGCCTGCTCCAGTTGTGGTGAAAAGGTCGTGGGACTCCTTTGCCGACAAGCCGAGGAAGTCAGCCACGATTGATCTGTCAACTGGGGCGTTGCTCAAGACGGCACTTTGAACCTTGGTCCTATCTCCATCTACGACTCCGTGAGTTTTCAGGCGGCAAAACCCGTCTATCTTCGGACGTTCGAGGTCTGTAGGTACGGTGTCCTGTGTGCCAGGATTTATGAAATCCGTGTACCTTTTTGCATTGCCACTCAATATTCAAGACTACGATGGCACTGAAAGTCGCATGAATAAAAAGCACCTCTTACATCAGTGTGCCTTAAACCATCTCCACCTGATACAGTCGAATGTAACATGTCTTACACGATCCGGTAGCCCGCGCTGGCGCCGCACCAATAAAGCAAGACACTGTAAACACGGTTGATACAGCGCACGCAAGTCGTTGATGTACGCTAGACTCTGCAAAAAGCGAAGCTAGCATTACCATTGTACATCTAACGATATTAACCAAGACTATTCGGCTCGTCGCACAGCGGGTAACACTGCCGTCTCACCGTTAGTTAGCGGGGGCAGCCCCTATACGGTGCGCACCCGAAAATAATACGCTGCACGCTCAGTGTTGTATTATGTACATTAATAAAACATACGCGAGTGGGGGATGAGGCGCAAC'\n",
    "counter = 0\n",
    "for i in xrange(len(a)):\n",
    "    if a[i] != b[i]:\n",
    "        counter += 1\n",
    "print counter\n",
    "        "
   ]
  },
  {
   "cell_type": "code",
   "execution_count": 28,
   "metadata": {
    "collapsed": false
   },
   "outputs": [
    {
     "data": {
      "text/plain": [
       "0.8010204081632653"
      ]
     },
     "execution_count": 28,
     "metadata": {},
     "output_type": "execute_result"
    }
   ],
   "source": [
    "## Genetics Probabilities ##\n",
    "\n",
    "def MendelianGenetics(k, m, n):\n",
    "    prob = ((k*k - k) + 2*(k*m) + 2*(k*n) + (.75*(m*m - m)) + 2*(.5*m*n))/((k + m + n)*(k + m + n -1)); \n",
    "\n",
    "    return prob\n",
    "\n",
    "MendelianGenetics(20, 15, 15)"
   ]
  },
  {
   "cell_type": "code",
   "execution_count": 48,
   "metadata": {
    "collapsed": true
   },
   "outputs": [
    {
     "name": "stdout",
     "output_type": "stream",
     "text": [
      "MLTDAGLPIKSVTSEGARPGEYGKLGRRHTECEAYIQISGSLGFMYQKAFTKFLSTHVPGQDRTDLLNRATTQRISNSEGCAYHNMITAGIAFKLSIEWPTVRESHNYNRAVIMTLCFLIVAAVVMVVSECQSWPDPAVARVNAKSISTLILNYSRLAPVYPRFATVPATDYHAPIVDNRVRCSGPTRSRRFWMWKNSSTEIGVERLSVPTRAWVHTAGSIAFRTDCEVRPRCWIPQSDSSAFSLRRMCSKTRMSGNALLIFGARPLPAVVCTTFCKFTACSHDVTRTRSMNFRTSVPTEVAGRLTTAKLIDDTSRVDTRSVLCRVSKSSDLYAENPGLIVCTHQKPVVRLAPWGFDTEGPPHTVLITSVDRPIRIGPAILYRTAVCRYRQPPVSISSKILAIQLALTLPLTGRTGIRTSEATVGSFHYTISKDLPSALPYPIPRPVSITLKEIRSQPGGEATASDRGLIHGRELDRRKDNAQFNPLDVSRQVYRKRRTVLIRFLMVTKESLGEHMGIIGYCSAALALHHSVLILRAIPEFFPLDWSPKYGFRCGTTRLVTCTFKSSSSGTFCPTYETCTRTDHPLLYHRVHSLSHVNADCRIFSGPLRKPCPETDYSAGMSDPDINRTGYVLLATVIHYGCPPSSCPSMPVLIEIAFSPTVDKGDPSQGLFGPTPLYLLLGHTELYSVESPLLAFGVAKLPQGEITDYLAPINDCCCIPSLELPLIDKRNRMLSEELSVYNIQRSRPGTELPGCPIPFHALHGLYLLNDVKYLWAMKEGRFTHRGQRPPCRNIYQMLSNSWFFEERIPVPSPGIEFPDSHSRRFTASIDWTVHACLSKPHVSYHLPITLSRSCTPTSTKTARLGLATGPGCPTVPAVLMGIAESFQRELGSYNAFRLLDLPVGKTLSQGFCSYRRHRTFSNELSYTNNRPYCIDKYCLTRPSGRARISHGPWIGLLPTLTQLGEHGSPRKVDNMSMEVQERTSQLRARVVFTGTYKLVCFRLWQIYLTETWWSHAPTRRLTSGLQVGRRFYQGERRPNPSITGLVRRRGRVPTTSQRLRTSGIGSNALKSSLDDRDKRLPQRVRSTRDARLASSPQWCWGYWQLNPCGKELPLKTSQDCPHFWTLVSTTFRRRTSAPNHQRSLCISAGGLRSCWGTTTILTQDSMFWTTSVPVTRPVILERRADRLGSTEYGHVLTRLVPLRTTRFPYTGYVHAASPPRKLFLRGAIGVVRKVCIRSGSWSSLFPAPMAPEVRRTRVLGPAIIGLALGPHLDDGRDSRYSSGIVDIVCRARCSRTHHERYLCATSQRVPLIRQSCTIVRHWNLEELTKSLLHSGLRRGKVLLELSLLSFRRAVVNSFKPYTSGRVVGPMDTGLVENTRSGTPVGGAVPNCISLTQGKSHMWSVGDRLDPERPRVKAQKAYVGHKIIWYRSSFRIYPIAMPELIVPMRSAQEQGKHFGLTTGDSPAELGSFYTWRKAATTTQVVDGVHISRLPRALCSITGLPRVNSFSEGMSNYRVWVTALVFLIATQLGESSYRQWSLSPRGRSYSTWWVAWCGSSRPTSIVREGGRGILALREGLTPPSIHIYVNSHACIENYGSTTMWYRMIYEVNRSSRPLISVAILGCVTFRWKEDRNEDVPAFVVVKMNLLEATIRCPRGVGRINSTDPSVPFITSEMCSHSTTTKTFITIYSTPRLKKIIIILTSRSPARDLEHRDALIYLVMGLLSKGSGSDPYDKLARLEKHICELSGIPRDSLPRITRRQVSSFLGGTSLILQKALYAPPVNPAKCLDSTQIHVWLKLDPYLTFQNKPRLWTLIIALRRRAYKIPGRTRTTPRYKKVLSVASKRTPESWSCYYQPQGNRFLEIKLAPHPVFVLSSVSMWTTMNGTNDVGEEIHPSTLSRATSANIPIDLKRERRKIGPVLSSLRRINKTCASRVFLSTPTRSVESPVTQAGLDTGPLLGHWILPLLKNYKSRSRTLQHVNIGAGRSLLERVAAAGEAALRSGEADCTQKRLIIKSTYAPVLSLIFASSVCLIAGSNVSHIRYSAVGLPQAPAPVVERTDTIGLCLPREGLSEIVIALDKIPPLEHTYASSLRPEGQLHKAHTAASSVVIIISGAFCVHVAAVWTPLRKRYNKRQKKKPTDVTASYQLLTGLRCSRTREDYDLKQPAVTHDRSPTGSSLTTRKICLRDRPPPWLLLLTTTLFVWVRSHALARAQQATGTLSFALILVPPPGGGVHPPRSLDEKRLVVLEKQADIISRILAVFSHAGKNVLVLPRNPPHLIDARRFLDTLPLRIIARACAGVDTSQWQLIGFIWGWLRQICPRSRCVRRMVRLGRFNASVFSYIHTLLGSCLVNGSDHTQLRPSTIMNAADTYETLVRRGESLRWLKLTSHWHNRATTDNVGGPETPVSREEVPDLCFSRDLKRFQILDRQAQCELFSRHSLVTLWGSQVGFNYVQIMCNCWRKTESKEFHQPGAPRRERRYSPQCEARLSNSEPQRLTKTVDNLCGAWAMHSPYCLFGYVPVPQRTSSAYVRSNLSVSSIAGGNESRPGRRSGWNSGLISSKLCMMYKDNKVIGFRYVLIKPCTCSGRSKIQRSNRSHFIVTKCIEYSSFGDDMKESCSVTAVLKTCWVVQHWIPVVNMGFTATPKSSSVDSCDVITCQHKQTFFTLMVTPLPLGDFRGRMTISLLPTTFRPITFRKRRQTPSRQYWHAAFLYVSGWTDFLHGVVLLTPYYSMRPCRPTRWNLQIVRCWHLRPNLSIHLLPGYNGCPGVTVKSGGRTSTRNAHMGVARCSLAVPSTANHTHNPMQRLATECGNTKLCRRGGTRSKEEVRTWYFIHSQAIWYLVLRVWFALFSSTPLEAYTSLLGVSINIPFVVSRIVDRHCGKRASKKTVDGRPVTHGSNRMDLARYGFRRNSIATCLCYTISPMARLLLYIRQAFGYLQIEVHWSTTWCSRYRYMAMDRRVTTMLRSSDTYSELGKIHYKPLCGIWTCIALVGLSSLRDRDNRFSRTDVVLHISRSHIKICRSRHHDFGECCTQGSSVSIALSSVMALWPGRGVSFAVKYREQKGGSLYQPIPMERTPLGHGSPTEVYRIGGAVSLPGAPLINTSIKGHRVGRCPSVCRGGLHLCSQQLHIAAVDQIQTKLPATMAVYLQWLETDGGLPPCGGRPLQWRSGASHTPVVFRCILTSPGSRPASTOP\n"
     ]
    }
   ],
   "source": [
    "## RNA to Protein\n",
    "\n",
    "Codons = {\"UUU\":\"F\", \"UUC\":\"F\", \"UUA\":\"L\", \"UUG\":\"L\",\n",
    "        \"UCU\":\"S\", \"UCC\":\"S\", \"UCA\":\"S\", \"UCG\":\"S\",\n",
    "        \"UAU\":\"Y\", \"UAC\":\"Y\", \"UAA\":\"STOP\", \"UAG\":\"STOP\",\n",
    "        \"UGU\":\"C\", \"UGC\":\"C\", \"UGA\":\"STOP\", \"UGG\":\"W\",\n",
    "        \"CUU\":\"L\", \"CUC\":\"L\", \"CUA\":\"L\", \"CUG\":\"L\",\n",
    "        \"CCU\":\"P\", \"CCC\":\"P\", \"CCA\":\"P\", \"CCG\":\"P\",\n",
    "        \"CAU\":\"H\", \"CAC\":\"H\", \"CAA\":\"Q\", \"CAG\":\"Q\",\n",
    "        \"CGU\":\"R\", \"CGC\":\"R\", \"CGA\":\"R\", \"CGG\":\"R\",\n",
    "        \"AUU\":\"I\", \"AUC\":\"I\", \"AUA\":\"I\", \"AUG\":\"M\",\n",
    "        \"ACU\":\"T\", \"ACC\":\"T\", \"ACA\":\"T\", \"ACG\":\"T\",\n",
    "        \"AAU\":\"N\", \"AAC\":\"N\", \"AAA\":\"K\", \"AAG\":\"K\",\n",
    "        \"AGU\":\"S\", \"AGC\":\"S\", \"AGA\":\"R\", \"AGG\":\"R\",\n",
    "        \"GUU\":\"V\", \"GUC\":\"V\", \"GUA\":\"V\", \"GUG\":\"V\",\n",
    "        \"GCU\":\"A\", \"GCC\":\"A\", \"GCA\":\"A\", \"GCG\":\"A\",\n",
    "        \"GAU\":\"D\", \"GAC\":\"D\", \"GAA\":\"E\", \"GAG\":\"E\",\n",
    "        \"GGU\":\"G\", \"GGC\":\"G\", \"GGA\":\"G\", \"GGG\":\"G\",}\n",
    "\n",
    "s = ''\n",
    "protein = str()\n",
    "for i in range(0, len(s)-3+1, 3):\n",
    "    codon = s[i:i+3]\n",
    "    if (Codons[codon] == 'STOP'):\n",
    "        break\n",
    "    protein+=Codons[codon]\n",
    "print protein    "
   ]
  },
  {
   "cell_type": "code",
   "execution_count": 6,
   "metadata": {
    "collapsed": true
   },
   "outputs": [
    {
     "name": "stdout",
     "output_type": "stream",
     "text": [
      "{'ACTGCCTAC': [4, 59, 104, 144, 177, 184, 191, 236, 243, 267, 290, 297, 312, 405, 487, 550, 557, 575, 582, 598, 718]}\n"
     ]
    }
   ],
   "source": [
    "## Kmer Positions ##\n",
    "\n",
    "s = 'TGCACTGCCTACTGCCTGACTGCCTTCACTGCCTGACTGCCTAGCTTACTGCCTTTGAACTGCCTACTGCCTCACTGCCTAAAGACTGCCTGCCAACTGCCTTACTGCCTACTGCCTGAACTGCCTCACTGCCTCACTGCCTCACTGCCTACTGCCTAGACTGCCTCACTGCCTGGACTGCCTACTGCCTACTGCCTACTGCCTGTCCCATCGGCTAAACTGCCTAGACTGCCTCACTGCCTACTGCCTACTGCCTCATCCTTCACACTGCCTACTGCCTAAAGCCTAAACTGCCTACTGCCTACTGCCTCACTGCCTACTGCCTGTTGCATACTGCCTGGAGACTACTGCCTTTACCTGACTGCCTCTCTCCATACTGCCTCACTGCCTTGACCGACTGCCTTACTGCCTACTGCCTGAACTGCCTAAACTGCCTTTACTGCCTCTTAGATTCCACTGCCTTACTGCCTCGACTGCCTTACATCTACTGCCTACTGCCTTGTACAACATCTAATACTGCCTTACTGCCTGGGCGAAATTACTGCCTTCACTGCCTACTGCCTACTACTGCCTCACTGCCTACTGCCTACTGCCTATACTGCCTACCGGACTGCCTTTTACTGCCTTTACTGCCTTCACTGCCTAACTGCCTCACTGCCTCACTGCCTGTAACTGCCTGATTACTGCCTGACGGAGACTGCCTTACTGCCTTACTCTACTGCCTACTGCCTCTAACTGCCTGCTAAATCGACACTGCCTTCTAATTACTGCCTTAGGAACTGCCTTAATTACTGCCT'\n",
    "k = 'ACTGCCTAC'\n",
    "kmerCount = {}\n",
    "for i in xrange(1,len(s)-len(k)+1):\n",
    "    kmer = s[i:i+len(k)]\n",
    "    if (k == kmer):\n",
    "        kmerCount[kmer] = kmerCount.get(kmer,[])+[i+1]\n",
    "print kmerCount"
   ]
  },
  {
   "cell_type": "code",
   "execution_count": null,
   "metadata": {
    "collapsed": true
   },
   "outputs": [],
   "source": []
  },
  {
   "cell_type": "code",
   "execution_count": 40,
   "metadata": {
    "collapsed": true
   },
   "outputs": [
    {
     "name": "stdout",
     "output_type": "stream",
     "text": [
      "CCGACATCCCTACCCCTAACACTTGTCCACAAACATTTAAGTAAATTGAATTGACGAACCATTCACGACAACAACAGATCACCGTAACAGCCACAAAACAGTGCCTTTCTATAGCGCTCCTCAATTAACCTGATTAGCCGGCCGGTACACAAAGAATACTCTCAGAACGGCATCATGCCTAACTACTTATGGTAAAGCTATAAGTTCTGGGCTAGTCTATTAAATAACCCAACGAACATCAGGATGTCCCAAAAGAACCTCTACCTCCAGCCCATGCCTGCCCTATCACCAGGGTACACTTACCATGGTTACAGAAAAACAAACAACACACTGTTGCGAAACAGAAATTCCGAGTAGACATCACATGCCCAACCCATCTACCAAATTCCTTAGGCATCGCCTGCGCCCTCAATAGCAAAGACAATGAACTTCACCTCAGCACACTTATCACGCATGAAGCGCACAATATTCCCCACTGATTCTCTGAATACAAGGCCTTCGCGTGGGACCTCTTAAATCCAAAATAATTTTACTCTCCGAGTGACCTAAGGTCACAAAAACAAGTCGCAAAGCTGAAAGCGCGATAGTTAGACTTTGTCAATAGGCTTACGTGGAGGCTAGTTGAACTGGCAGGTAAACAAACAGAGAGACAGATGAAATTAACAGGTAACGCTACAATTAATCTACCGTTACCAATCCCAATGATAAGGCCCACCACGCTACCACTAGAGAATTTAAGAGTCTCAGTGCAGCGGCACCGCAATAACACACCGAACCAAAGTTATAAACTAGAAGCGATGCGCGAGCATAGTTTGTGCCTGATATCGATTTCGAGCTCGCATCTGAGACATAACACCAACGAGAAAAATTCCCCCTACCTAACTTGACAAAATCGAACTCCTTAAGTAATAAAGAAATTGGAATCGACCAAACGGTCAAACGCTTAACCCGCTCACTAACTGCATGGATCCTACCCCTGGCATCGGTGTGAAATAA\n",
      "A: 2 2 2 5 2 3 2 2 2 1 4 3 2 2 1 2 2 5 3 1 3 2 2 2 2 1 3 2 4 2 4 3 6 1 5 3 2 2 3 6 2 2 4 4 4 3 2 2 4 4 2 3 1 4 2 2 3 4 1 2 4 1 2 2 5 2 2 4 3 5 4 2 3 4 1 4 2 5 3 1 5 2 1 1 2 4 4 2 3 2 3 3 3 0 4 5 4 4 2 5 1 3 2 1 2 1 2 3 1 2 4 2 4 0 1 1 2 2 1 3 2 0 3 4 3 2 3 3 2 2 2 2 4 3 2 4 3 2 1 3 2 2 1 2 2 2 5 3 5 1 4 3 4 1 3 3 2 4 1 0 0 1 2 3 1 4 4 3 3 2 1 4 1 2 3 3 2 2 2 3 3 4 0 3 3 2 1 2 4 2 1 2 1 4 4 4 1 2 2 3 2 3 5 3 2 2 1 1 1 1 0 1 0 6 1 2 1 1 6 2 0 3 4 4 2 3 3 2 2 2 3 4 2 2 6 3 0 4 2 1 3 2 3 4 1 2 2 2 1 2 4 5 3 3 0 6 3 2 1 1 3 1 3 1 0 1 4 0 4 3 0 2 1 4 2 2 0 3 2 3 1 2 2 2 3 0 2 3 1 2 4 1 0 2 2 6 0 3 2 3 1 4 2 2 4 2 3 2 1 2 4 2 4 3 3 3 3 4 4 3 4 3 3 1 4 4 3 6 2 4 1 0 3 2 1 3 1 2 3 3 6 3 4 1 3 3 4 3 2 1 2 3 4 1 2 3 1 5 2 3 1 3 4 3 3 2 3 1 2 3 4 3 2 0 3 4 3 3 2 5 1 1 5 4 3 1 2 3 2 2 2 3 3 3 2 4 0 2 2 2 2 2 1 1 2 1 3 3 2 2 4 5 2 5 2 0 3 4 4 2 3 0 4 6 3 3 3 3 0 3 2 2 3 2 0 2 0 4 1 1 3 0 4 1 2 2 4 4 1 6 2 3 2 6 3 1 4 3 0 3 1 2 3 2 4 4 2 4 2 1 2 2 1 1 3 2 2 0 5 3 2 3 2 2 3 2 4 4 1 5 0 4 4 2 2 2 3 3 1 0 1 2 3 2 3 3 3 3 2 2 2 1 2 0 3 5 3 0 1 2 3 3 3 5 0 3 4 2 3 1 0 4 0 1 2 3 2 2 2 4 1 2 1 3 2 1 2 6 5 1 1 2 1 5 2 4 3 4 4 4 3 4 4 2 2 1 1 2 4 3 4 3 2 0 3 3 4 4 1 2 3 0 3 3 2 4 1 2 2 4 1 3 3 2 2 2 0 0 3 5 4 1 3 2 0 0 2 1 4 1 2 2 1 3 3 2 2 2 0 3 1 2 2 4 5 3 1 2 1 2 1 3 2 3 1 5 7 5 1 5 4 3 2 6 3 5 1 6 3 4 0 3 1 4 3 1 5 6 5 1 2 4 3 3 5 1 0 2 4 3 2 1 1 1 4 1 5 3 3 2 4 4 2 2 2 4 1 2 2 2 1 5 1 0 3 3 3 1 1 3 7 3 3 3 5 2 3 5 2 2 1 0 3 4 2 2 3 2 4 2 0 3 1 1 4 2 3 3 2 4 1 4 5 1 1 1 3 3 3 5 1 2 1 3 3 3 1 1 2 2 3 3 3 2 1 2 3 2 3 2 1 3 4 3 3 4 1 4 2 4 2 2 2 4 4 1 2 5 4 5 1 2 3 5 1 4 3 3 1 3 4 2 6 4 1 2 2 5 1 1 1 1 1 2 3 1 2 6 3 5 3 2 0 1 1 1 1 1 2 2 3 3 3 3 2 0 1 4 0 3 1 2 1 4 3 1 2 1 1 2 3 1 1 1 2 4 3 4 2 4 3 4 3 1 3 2 2 3 5 2 2 4 2 5 3 5 4 5 2 2 0 1 3 2 2 2 4 0 2 3 4 3 0 3 1 2 4 3 7 4 5 3 1 3 3 4 5 4 2 0 3 2 3 5 7 2 2 6 3 2 3 3 3 2 6 3 5 2 3 3 4 4 3 2 2 3 6 2 2 3 4 4 1 3 2 1 2 4 3 4 4 1 2 1 0 3 5 3 1 2 2 2 1 2 3 2 1 5 4 2 2 2 2 7 1 0 2 3 1 3 1 1 4 1 2 1 3 1 1 3 2 3 2 1 2 2 1 1 2 3 3 6 3 1 3 5\n",
      "C: 3 4 2 1 5 2 2 3 3 4 0 1 3 4 6 3 2 1 2 4 2 5 1 3 1 2 4 5 3 4 3 2 3 3 0 2 2 2 3 2 3 2 2 2 3 2 2 2 3 2 1 2 2 1 4 1 2 2 4 3 3 3 2 4 1 4 3 3 4 3 3 5 2 2 5 1 2 2 0 4 1 3 4 2 2 1 2 3 3 1 4 5 3 4 1 2 0 1 4 2 1 3 1 3 4 1 2 2 5 2 2 2 2 2 5 3 4 2 4 4 2 5 1 3 2 3 2 3 4 4 2 1 3 1 1 3 1 4 3 0 1 5 6 2 2 1 1 6 1 4 1 3 1 1 3 2 1 2 4 2 4 3 3 2 1 2 2 4 1 1 4 4 2 4 3 2 1 4 3 1 2 1 5 0 2 4 2 2 3 1 2 1 0 3 1 0 2 5 2 3 2 1 2 2 2 2 4 1 3 3 2 4 4 0 2 3 4 1 1 2 2 3 3 0 2 3 3 4 4 3 1 4 3 3 2 3 4 2 0 7 3 1 0 2 2 2 2 3 7 3 1 2 2 2 3 1 1 5 5 1 4 1 2 4 5 1 5 8 3 3 5 3 4 1 2 2 6 5 1 0 4 6 4 3 3 2 4 3 5 3 2 3 1 2 3 0 4 3 3 1 3 0 4 3 3 2 1 0 1 2 2 4 2 1 3 1 1 0 1 4 0 3 1 3 3 2 4 1 4 2 4 3 1 2 1 1 5 1 3 3 3 4 2 3 2 3 1 2 3 4 3 1 0 3 2 3 1 2 4 2 3 4 2 5 3 2 1 6 3 4 1 3 5 4 5 2 1 4 2 4 6 5 1 3 3 2 2 4 4 1 2 1 2 2 4 3 2 3 1 3 5 3 3 3 1 5 4 5 2 5 3 1 2 1 2 7 2 0 3 3 3 4 1 1 1 1 3 3 4 2 2 3 1 4 6 1 4 2 3 5 1 5 1 4 3 2 3 0 3 1 4 2 3 0 2 0 1 2 3 4 2 4 2 3 4 2 2 2 3 1 3 3 4 4 2 5 2 3 3 2 2 4 0 3 2 2 0 3 2 2 4 2 3 2 2 3 4 1 2 4 3 4 2 2 1 2 1 3 4 4 1 3 1 2 2 3 2 3 7 5 2 2 3 1 0 2 2 1 2 3 3 2 4 1 3 3 4 4 2 4 3 2 2 2 4 5 2 2 2 2 2 2 4 2 5 2 1 1 4 1 4 3 2 3 3 5 2 4 2 3 2 2 3 2 1 3 3 1 3 4 2 6 3 1 2 1 2 1 2 2 3 2 4 1 0 0 1 3 5 1 3 2 2 1 2 4 2 2 1 5 2 3 3 2 3 2 1 3 3 1 1 1 1 0 0 2 4 2 2 2 5 1 2 2 3 2 0 0 5 2 1 3 4 1 2 0 3 0 2 1 8 2 3 3 3 2 2 3 2 3 1 1 3 4 1 1 3 2 1 3 3 2 6 1 0 3 1 2 2 2 1 3 2 5 2 1 7 5 3 3 1 3 4 5 2 2 2 6 5 4 2 3 1 0 1 2 3 2 2 1 4 4 4 3 5 4 2 4 0 4 3 3 7 4 2 3 1 1 3 4 4 2 3 2 3 2 2 3 2 2 2 2 3 1 5 3 2 2 1 5 1 3 4 3 1 4 3 3 4 1 6 1 3 0 2 3 4 2 3 3 4 4 3 3 2 4 3 0 3 3 2 2 2 1 2 1 2 2 4 2 2 2 2 3 2 4 0 3 1 1 4 3 4 1 1 1 4 0 2 0 2 2 2 2 4 1 2 5 6 2 3 3 1 3 3 4 3 1 4 2 3 3 2 2 2 4 1 5 2 3 2 3 4 3 1 2 3 3 3 1 1 4 2 5 3 6 4 2 2 3 2 2 1 2 3 3 3 1 1 0 7 5 6 4 5 3 3 6 5 0 3 1 4 1 1 3 2 4 2 0 0 3 2 4 3 1 1 6 1 5 5 2 1 2 1 1 2 2 3 1 2 3 3 2 3 3 2 3 0 2 1 4 2 2 4 2 2 3 4 2 3 2 3 2 3 3 4 2 1 3 5 2 5 2 4 3 3 5 4 4 3 3 3 4 1 6 3 0 3 4 1 3 4 0 0 2 2 1 1 4 3 1 2 3 3 4 4 3 1 1 5 2 2 4 1 1 2 2 2 0 3 3 1 3 3 1\n",
      "G: 3 2 4 1 2 3 1 3 3 4 1 3 2 1 0 3 2 2 2 1 2 1 2 1 6 3 3 2 1 2 1 3 0 3 3 1 0 2 1 2 5 2 2 1 1 1 3 6 2 2 3 0 4 2 2 5 3 1 4 3 2 2 2 1 0 3 4 1 1 2 0 0 3 3 3 4 6 1 1 1 3 2 3 6 2 4 4 3 3 4 0 1 2 4 1 2 2 3 2 2 5 0 5 3 3 1 3 0 4 3 2 2 1 7 1 6 1 2 4 0 2 2 3 3 0 1 3 1 2 3 3 5 3 2 3 2 4 0 3 5 4 1 3 5 4 3 0 1 2 1 4 2 4 5 1 3 1 3 4 4 3 2 2 2 5 2 1 2 4 4 2 1 3 2 1 1 5 1 3 1 2 2 3 3 3 1 2 3 1 3 5 6 3 1 3 2 4 2 3 2 2 3 2 4 3 3 2 2 4 5 5 2 1 3 4 1 3 2 1 2 3 2 1 4 2 1 3 1 2 3 3 1 2 4 1 1 2 2 4 0 2 4 4 1 2 4 1 2 1 3 2 2 3 2 4 1 3 2 3 4 2 3 2 3 2 4 1 1 0 4 3 2 2 3 2 4 0 1 3 4 1 0 4 1 1 4 0 2 1 3 2 4 5 4 1 0 2 1 3 2 2 2 1 3 2 0 5 5 3 3 3 1 3 5 2 3 3 3 4 1 2 3 3 3 2 1 3 2 3 1 3 3 4 1 4 4 2 5 3 3 0 2 2 5 3 2 2 1 1 3 3 5 3 4 2 2 7 3 2 3 2 1 2 1 3 3 4 3 3 2 4 3 1 3 2 3 1 3 2 0 2 1 1 2 2 2 3 2 2 2 3 3 4 4 3 3 1 2 4 3 1 1 4 3 5 2 2 0 2 1 2 2 3 2 5 3 2 3 1 4 2 3 2 3 0 4 1 1 3 1 2 2 3 3 1 3 4 2 4 2 3 2 3 1 1 3 0 1 3 0 1 4 2 3 1 5 2 2 5 3 5 2 2 2 2 2 3 1 1 4 3 3 1 3 3 2 2 5 0 1 3 0 4 3 1 5 3 2 3 2 3 3 1 4 6 3 1 2 3 2 4 2 4 3 5 4 4 3 3 4 2 3 2 4 3 1 2 3 0 0 2 2 2 4 3 2 1 3 1 2 1 3 3 3 3 0 0 2 4 1 6 3 4 3 3 1 2 0 2 4 5 0 3 2 2 1 3 3 2 4 1 0 2 4 1 2 5 1 3 3 1 4 2 3 4 2 2 3 4 1 4 2 4 3 0 3 5 3 3 2 4 2 3 2 2 4 7 2 0 2 1 3 2 4 5 4 3 2 1 1 6 1 4 5 1 4 4 3 3 3 5 3 3 5 1 2 4 3 4 4 3 3 4 4 1 1 2 2 3 2 3 1 2 1 4 2 5 3 4 4 1 3 4 2 0 4 1 1 1 2 3 2 2 2 1 6 5 3 3 2 3 4 2 4 3 3 0 2 1 3 2 1 2 0 3 3 1 2 4 0 4 2 2 3 2 3 1 2 0 3 0 1 0 4 2 2 3 0 4 4 3 2 0 1 2 3 3 1 5 1 2 2 2 1 4 2 2 3 5 1 5 2 1 3 2 3 3 2 4 2 4 3 3 2 2 2 5 3 6 1 3 4 2 4 6 3 3 3 1 4 1 3 2 1 2 1 2 1 3 1 2 2 4 1 2 2 2 3 1 1 4 3 1 0 2 2 3 3 1 1 2 4 1 2 4 1 6 2 3 6 2 5 2 4 3 5 3 2 1 2 4 2 2 3 5 4 4 3 1 2 4 2 2 2 0 3 5 2 0 1 2 3 5 2 4 4 3 2 4 3 3 2 2 2 6 1 4 2 3 3 2 1 3 3 3 2 3 2 1 2 4 3 5 2 2 1 1 3 0 4 0 4 0 2 2 1 2 2 1 0 2 3 4 2 4 4 1 1 1 3 2 2 2 1 4 3 1 0 3 3 2 3 2 1 1 4 3 0 1 3 3 2 2 5 1 3 3 1 2 4 5 0 3 1 3 5 1 3 2 2 2 2 3 4 5 2 2 3 3 1 1 6 1 3 1 1 0 1 2 3 4 2 2 1 3 0 1 3 1 1 1 4 1 1 4 5 4 3 2 2 3 2 4 3 3 2 2 2 5 4 1 2 2 1 4 4 2 4 3 5 2 0 3 0 2 3\n",
      "T: 2 2 2 3 1 2 5 2 2 1 5 3 3 3 3 2 4 2 3 4 3 2 5 4 1 4 0 1 2 2 2 2 1 3 2 4 6 4 3 0 0 4 2 3 2 4 3 0 1 2 4 5 3 3 2 2 2 3 1 2 1 4 4 3 4 1 1 2 2 0 3 3 2 1 1 1 0 2 6 4 1 3 2 1 4 1 0 2 1 3 3 1 2 2 4 1 4 2 2 1 3 4 2 3 1 7 3 5 0 3 2 4 3 1 3 0 3 4 1 3 4 3 3 0 5 4 2 3 2 1 3 2 0 4 4 1 2 4 3 2 3 2 0 1 2 4 4 0 2 4 1 2 1 3 3 2 6 1 1 4 3 4 3 3 3 2 3 1 2 3 3 1 4 2 3 4 2 3 2 5 3 3 2 4 2 3 5 3 2 4 2 1 6 2 2 4 3 1 3 2 4 3 1 1 3 3 3 6 2 1 3 3 5 1 3 4 2 6 2 4 5 2 2 2 4 3 1 3 2 2 3 1 3 1 1 3 4 2 4 2 2 3 3 3 5 2 5 3 1 2 3 1 2 3 3 2 3 1 1 4 1 5 3 2 3 4 0 1 3 0 2 3 3 2 4 2 4 1 4 3 4 2 0 4 3 4 4 2 3 2 2 2 4 2 4 4 4 3 2 4 4 4 3 2 1 6 1 3 5 3 1 3 1 1 2 3 3 3 1 2 4 1 3 3 1 3 0 1 1 3 2 4 2 5 4 2 2 2 1 1 1 1 2 1 2 2 3 4 4 2 2 1 3 2 4 2 1 0 2 2 4 2 2 1 1 3 2 0 2 1 1 1 2 3 0 1 5 0 4 1 1 3 3 1 2 5 3 1 2 5 3 3 1 1 1 0 7 3 3 2 2 4 2 3 2 2 1 2 4 2 1 2 3 2 1 0 3 3 2 1 2 3 3 0 6 2 3 3 3 4 4 3 3 1 3 4 2 2 2 2 3 3 2 4 4 3 3 5 3 3 3 1 3 1 4 4 3 3 2 0 2 2 3 3 0 2 3 3 4 4 2 2 4 2 2 1 4 2 2 4 3 3 4 2 4 1 3 1 4 1 3 1 2 2 0 2 2 4 4 4 2 2 1 3 1 1 2 1 1 0 5 3 5 4 2 1 3 4 2 3 3 3 2 0 7 3 3 4 4 4 6 1 3 5 2 4 4 2 2 1 0 3 3 2 1 3 4 2 1 3 2 6 2 1 1 3 3 2 0 1 2 3 2 1 4 2 2 3 1 1 3 1 3 5 2 2 1 2 2 3 1 2 0 3 6 2 2 4 3 2 2 3 0 5 6 4 2 5 2 2 2 4 3 3 3 2 3 5 4 3 0 4 2 0 3 2 3 2 4 3 3 4 4 1 4 3 1 3 3 2 1 3 2 1 5 2 1 3 1 1 2 3 2 2 1 3 1 1 1 1 1 2 2 1 4 3 2 0 2 4 4 3 2 1 3 2 2 3 2 2 2 3 1 4 3 3 4 3 4 3 3 2 4 3 3 2 1 1 1 5 4 0 3 2 3 2 4 1 4 0 1 3 6 3 2 4 1 3 2 3 2 4 3 2 1 1 2 3 1 3 5 2 0 4 0 3 4 3 0 1 0 2 1 4 4 4 2 2 1 1 3 3 3 4 0 2 2 4 1 2 3 0 1 1 2 1 1 2 2 3 2 3 1 6 3 2 3 3 2 2 2 2 1 2 2 3 3 2 2 1 3 3 4 4 5 3 2 2 4 4 2 2 1 1 3 3 2 0 5 2 3 1 3 3 3 3 1 2 4 3 1 4 6 4 0 4 3 1 1 4 0 2 4 2 5 3 1 3 6 4 4 2 2 2 1 1 4 2 3 2 2 4 3 4 1 3 0 1 2 2 4 1 2 1 1 0 1 3 2 3 2 1 2 1 2 1 2 1 7 4 3 0 1 2 1 4 1 2 2 7 1 3 2 4 4 1 3 2 0 3 3 2 5 2 0 2 3 0 4 2 0 3 4 2 1 3 3 2 3 4 2 2 2 1 0 1 0 4 5 1 0 2 2 5 1 0 1 2 2 3 1 2 3 1 0 4 2 1 3 2 0 1 2 4 5 3 2 1 3 1 1 3 4 3 3 2 5 2 2 3 6 1 3 2 5 3 2 3 6 1 3 6 0 3 2 3 1 4 3 2 2 3 4 4 3 3 5 3 3 2 2 1 3 6 2 1\n"
     ]
    }
   ],
   "source": [
    "## Consensus and Profile ##\n",
    "\n",
    "import itertools\n",
    "\n",
    "def loadFasta(filename):\n",
    "    fp = open(filename, 'rb')\n",
    "    data = fp.read().split('>')\n",
    "    fp.close\n",
    "    data.pop(0)\n",
    "    headers = []\n",
    "    sequences = []\n",
    "    for sequence in data:\n",
    "        lines = sequence.split('\\n')\n",
    "        headers.append(lines.pop(0))\n",
    "        sequences.append(''.join(lines))\n",
    "    return (headers, sequences)\n",
    "\n",
    "def Consensus(s, DNA, k):\n",
    "    \"\"\" compute the consensus k-Motif of an alignment given offsets into each DNA string.\n",
    "            s = list of starting indices, 1-based, 0 means ignore, DNA = list of nucleotide strings,\n",
    "            k = Target Motif length \"\"\"\n",
    "    consensus = ''\n",
    "    a = []\n",
    "    c = []\n",
    "    g = []\n",
    "    t = []\n",
    "    for i in xrange(k):\n",
    "        # loop over string positions\n",
    "        cnt = dict(zip(\"ACGT\",(0,0,0,0)))\n",
    "        for j in xrange(len(seq)):\n",
    "            # loop over DNA strands\n",
    "            base = DNA[j][i] \n",
    "            cnt[base] += 1\n",
    "        consensus += max(cnt.iteritems(), key=lambda tup: tup[1])[0]\n",
    "        a.append(cnt['A'])\n",
    "        c.append(cnt['C'])\n",
    "        g.append(cnt['G'])\n",
    "        t.append(cnt['T'])\n",
    "    return consensus, a, c, g, t\n",
    "\n",
    "head, seq = loadFasta('Rosalind/txt/rosalind_cons.txt')\n",
    "a = []\n",
    "c = []\n",
    "g = []\n",
    "t = []\n",
    "\n",
    "ans, a, c, g, t = Consensus(0, seq, len(seq[0]))\n",
    "print ans\n",
    "print 'A: {}'.format(' '.join([str(count) for count in a]))\n",
    "print 'C: {}'.format(' '.join([str(count) for count in c]))\n",
    "print 'G: {}'.format(' '.join([str(count) for count in g]))\n",
    "print 'T: {}'.format(' '.join([str(count) for count in t]))"
   ]
  },
  {
   "cell_type": "code",
   "execution_count": 42,
   "metadata": {
    "collapsed": true
   },
   "outputs": [
    {
     "name": "stdout",
     "output_type": "stream",
     "text": [
      "257431373055877146\n",
      "Population: [1, 1, 2, 3, 5, 8, 13, 21, 34, 55, 89, 144, 233, 377, 610, 987, 1597, 2583, 4179, 6761, 10938, 17696, 28629, 46317, 74933, 121229, 196128, 317302, 513341, 830499, 1343607, 2173729, 3516726, 5689468, 9204597, 14891482, 24091900, 38976621, 63057583, 102016508, 165045462, 267015653, 431986182, 698880606, 1130670660, 1829233964, 2959391283, 4787794748, 7745842424, 12531463443, 20273789141, 32799563116, 53064147660, 85848819294, 138888875054, 224698717727, 363524535198, 588121236417, 951480726153, 1539334946917, 2490383686888, 4029019753199, 6518272769427, 10545463288662, 17060776666806, 27601452160720, 44654482985102, 72243403682379, 116877612878340, 189088216997603, 305912765728283, 494915133906592, 800689010759821, 1295379445948686, 2095704932173309, 3390496256885578, 5485249708332734, 8874206630271395, 14356965954917241, 23227143565435437, 37577591247583251, 60794189349730026, 98354719820646471, 159121307718215777, 257431373055877146]\n"
     ]
    }
   ],
   "source": [
    "## Mortal Fibonacci Rabbits ##\n",
    "\n",
    "generations = [1, 1] #Seed the sequence with the 1 pair, then in their reproductive month.\n",
    "def fib(i, j):\n",
    "    count = 2\n",
    "    while (count < i):\n",
    "        if (count < j):\n",
    "            #recurrence relation before rabbits start dying (simply fib seq Fn = Fn-2 + Fn-1)\n",
    "            generations.append(generations[-2] + generations[-1]) \n",
    "        elif (count == j or count == j+1):\n",
    "            #Fn = Fn-2 + Fn-1 - 1\n",
    "            generations.append((generations[-2] + generations[-1]) - 1)\n",
    "        else:\n",
    "            #Our recurrence relation here is Fn-2 + Fn-1 - Fn-(j+1)\n",
    "            generations.append((generations[-2] + generations[-1]) - (generations[-(j+1)])) \n",
    "        count += 1\n",
    "    return (generations[-1])\n",
    "\n",
    "\n",
    "print (fib(85, 17))\n",
    "print 'Population: {}'.format(str(generations))"
   ]
  },
  {
   "cell_type": "code",
   "execution_count": 105,
   "metadata": {
    "collapsed": true
   },
   "outputs": [
    {
     "name": "stdout",
     "output_type": "stream",
     "text": [
      "0 15 3\n",
      "Rosalind_8680 Rosalind_8814\n",
      "0 70 3\n",
      "Rosalind_8680 Rosalind_3068\n",
      "1 19 3\n",
      "Rosalind_2370 Rosalind_0839\n",
      "1 65 3\n",
      "Rosalind_2370 Rosalind_9057\n",
      "2 27 3\n",
      "Rosalind_6156 Rosalind_8851\n",
      "2 75 3\n",
      "Rosalind_6156 Rosalind_8079\n",
      "2 84 3\n",
      "Rosalind_6156 Rosalind_6564\n",
      "3 35 3\n",
      "Rosalind_6308 Rosalind_2814\n",
      "3 71 3\n",
      "Rosalind_6308 Rosalind_4476\n",
      "4 64 3\n",
      "Rosalind_6669 Rosalind_3974\n",
      "5 31 3\n",
      "Rosalind_8134 Rosalind_5452\n",
      "6 28 3\n",
      "Rosalind_3875 Rosalind_6552\n",
      "8 27 3\n",
      "Rosalind_2992 Rosalind_8851\n",
      "8 75 3\n",
      "Rosalind_2992 Rosalind_8079\n",
      "8 84 3\n",
      "Rosalind_2992 Rosalind_6564\n",
      "9 5 3\n",
      "Rosalind_1880 Rosalind_8134\n",
      "9 92 3\n",
      "Rosalind_1880 Rosalind_4868\n",
      "10 25 3\n",
      "Rosalind_8398 Rosalind_3639\n",
      "11 41 3\n",
      "Rosalind_0925 Rosalind_7441\n",
      "11 88 3\n",
      "Rosalind_0925 Rosalind_2018\n",
      "13 6 3\n",
      "Rosalind_9391 Rosalind_3875\n",
      "13 63 3\n",
      "Rosalind_9391 Rosalind_5136\n",
      "14 21 3\n",
      "Rosalind_4242 Rosalind_4979\n",
      "14 26 3\n",
      "Rosalind_4242 Rosalind_6367\n",
      "14 38 3\n",
      "Rosalind_4242 Rosalind_5423\n",
      "14 81 3\n",
      "Rosalind_4242 Rosalind_5825\n",
      "15 91 3\n",
      "Rosalind_8814 Rosalind_4927\n",
      "16 24 3\n",
      "Rosalind_6663 Rosalind_0919\n",
      "17 46 3\n",
      "Rosalind_3018 Rosalind_2076\n",
      "18 59 3\n",
      "Rosalind_3304 Rosalind_8384\n",
      "18 60 3\n",
      "Rosalind_3304 Rosalind_0901\n",
      "19 30 3\n",
      "Rosalind_0839 Rosalind_6976\n",
      "20 52 3\n",
      "Rosalind_1095 Rosalind_4065\n",
      "21 59 3\n",
      "Rosalind_4979 Rosalind_8384\n",
      "21 60 3\n",
      "Rosalind_4979 Rosalind_0901\n",
      "23 9 3\n",
      "Rosalind_9825 Rosalind_1880\n",
      "23 49 3\n",
      "Rosalind_9825 Rosalind_9763\n",
      "23 82 3\n",
      "Rosalind_9825 Rosalind_4487\n",
      "24 3 3\n",
      "Rosalind_0919 Rosalind_6308\n",
      "24 62 3\n",
      "Rosalind_0919 Rosalind_3472\n",
      "25 23 3\n",
      "Rosalind_3639 Rosalind_9825\n",
      "25 48 3\n",
      "Rosalind_3639 Rosalind_0817\n",
      "25 69 3\n",
      "Rosalind_3639 Rosalind_9059\n",
      "25 77 3\n",
      "Rosalind_3639 Rosalind_6984\n",
      "26 9 3\n",
      "Rosalind_6367 Rosalind_1880\n",
      "26 49 3\n",
      "Rosalind_6367 Rosalind_9763\n",
      "26 82 3\n",
      "Rosalind_6367 Rosalind_4487\n",
      "28 14 3\n",
      "Rosalind_6552 Rosalind_4242\n",
      "28 68 3\n",
      "Rosalind_6552 Rosalind_4290\n",
      "29 19 3\n",
      "Rosalind_5835 Rosalind_0839\n",
      "29 65 3\n",
      "Rosalind_5835 Rosalind_9057\n",
      "30 7 3\n",
      "Rosalind_6976 Rosalind_9714\n",
      "30 29 3\n",
      "Rosalind_6976 Rosalind_5835\n",
      "30 94 3\n",
      "Rosalind_6976 Rosalind_9912\n",
      "31 93 3\n",
      "Rosalind_5452 Rosalind_2230\n",
      "33 57 3\n",
      "Rosalind_1191 Rosalind_9017\n",
      "33 89 3\n",
      "Rosalind_1191 Rosalind_3359\n",
      "34 33 3\n",
      "Rosalind_3172 Rosalind_1191\n",
      "34 55 3\n",
      "Rosalind_3172 Rosalind_4347\n",
      "35 2 3\n",
      "Rosalind_2814 Rosalind_6156\n",
      "35 36 3\n",
      "Rosalind_2814 Rosalind_3734\n",
      "35 98 3\n",
      "Rosalind_2814 Rosalind_3255\n",
      "36 67 3\n",
      "Rosalind_3734 Rosalind_6070\n",
      "37 12 3\n",
      "Rosalind_9810 Rosalind_0826\n",
      "38 27 3\n",
      "Rosalind_5423 Rosalind_8851\n",
      "38 75 3\n",
      "Rosalind_5423 Rosalind_8079\n",
      "38 84 3\n",
      "Rosalind_5423 Rosalind_6564\n",
      "39 2 3\n",
      "Rosalind_7395 Rosalind_6156\n",
      "39 36 3\n",
      "Rosalind_7395 Rosalind_3734\n",
      "39 98 3\n",
      "Rosalind_7395 Rosalind_3255\n",
      "40 80 3\n",
      "Rosalind_8238 Rosalind_2683\n",
      "41 59 3\n",
      "Rosalind_7441 Rosalind_8384\n",
      "41 60 3\n",
      "Rosalind_7441 Rosalind_0901\n",
      "42 59 3\n",
      "Rosalind_4025 Rosalind_8384\n",
      "42 60 3\n",
      "Rosalind_4025 Rosalind_0901\n",
      "43 37 3\n",
      "Rosalind_9023 Rosalind_9810\n",
      "44 80 3\n",
      "Rosalind_3127 Rosalind_2683\n",
      "45 3 3\n",
      "Rosalind_3686 Rosalind_6308\n",
      "45 62 3\n",
      "Rosalind_3686 Rosalind_3472\n",
      "46 9 3\n",
      "Rosalind_2076 Rosalind_1880\n",
      "46 49 3\n",
      "Rosalind_2076 Rosalind_9763\n",
      "46 82 3\n",
      "Rosalind_2076 Rosalind_4487\n",
      "47 2 3\n",
      "Rosalind_6107 Rosalind_6156\n",
      "47 36 3\n",
      "Rosalind_6107 Rosalind_3734\n",
      "47 98 3\n",
      "Rosalind_6107 Rosalind_3255\n",
      "48 28 3\n",
      "Rosalind_0817 Rosalind_6552\n",
      "49 37 3\n",
      "Rosalind_9763 Rosalind_9810\n",
      "50 41 3\n",
      "Rosalind_3397 Rosalind_7441\n",
      "50 88 3\n",
      "Rosalind_3397 Rosalind_2018\n",
      "51 13 3\n",
      "Rosalind_9527 Rosalind_9391\n",
      "51 53 3\n",
      "Rosalind_9527 Rosalind_0345\n",
      "51 66 3\n",
      "Rosalind_9527 Rosalind_0380\n",
      "52 14 3\n",
      "Rosalind_4065 Rosalind_4242\n",
      "52 68 3\n",
      "Rosalind_4065 Rosalind_4290\n",
      "54 15 3\n",
      "Rosalind_8235 Rosalind_8814\n",
      "54 70 3\n",
      "Rosalind_8235 Rosalind_3068\n",
      "55 25 3\n",
      "Rosalind_4347 Rosalind_3639\n",
      "56 23 3\n",
      "Rosalind_6374 Rosalind_9825\n",
      "56 48 3\n",
      "Rosalind_6374 Rosalind_0817\n",
      "56 69 3\n",
      "Rosalind_6374 Rosalind_9059\n",
      "56 77 3\n",
      "Rosalind_6374 Rosalind_6984\n",
      "59 8 3\n",
      "Rosalind_8384 Rosalind_2992\n",
      "59 32 3\n",
      "Rosalind_8384 Rosalind_0497\n",
      "59 45 3\n",
      "Rosalind_8384 Rosalind_3686\n",
      "59 50 3\n",
      "Rosalind_8384 Rosalind_3397\n",
      "60 7 3\n",
      "Rosalind_0901 Rosalind_9714\n",
      "60 29 3\n",
      "Rosalind_0901 Rosalind_5835\n",
      "60 94 3\n",
      "Rosalind_0901 Rosalind_9912\n",
      "61 35 3\n",
      "Rosalind_3643 Rosalind_2814\n",
      "61 71 3\n",
      "Rosalind_3643 Rosalind_4476\n",
      "62 16 3\n",
      "Rosalind_3472 Rosalind_6663\n",
      "64 22 3\n",
      "Rosalind_3974 Rosalind_4464\n",
      "64 99 3\n",
      "Rosalind_3974 Rosalind_6625\n",
      "65 0 3\n",
      "Rosalind_9057 Rosalind_8680\n",
      "65 73 3\n",
      "Rosalind_9057 Rosalind_1673\n",
      "65 79 3\n",
      "Rosalind_9057 Rosalind_5505\n",
      "66 42 3\n",
      "Rosalind_0380 Rosalind_4025\n",
      "66 47 3\n",
      "Rosalind_0380 Rosalind_6107\n",
      "67 7 3\n",
      "Rosalind_6070 Rosalind_9714\n",
      "67 29 3\n",
      "Rosalind_6070 Rosalind_5835\n",
      "67 94 3\n",
      "Rosalind_6070 Rosalind_9912\n",
      "68 33 3\n",
      "Rosalind_4290 Rosalind_1191\n",
      "68 55 3\n",
      "Rosalind_4290 Rosalind_4347\n",
      "69 16 3\n",
      "Rosalind_9059 Rosalind_6663\n",
      "70 18 3\n",
      "Rosalind_3068 Rosalind_3304\n",
      "70 34 3\n",
      "Rosalind_3068 Rosalind_3172\n",
      "72 31 3\n",
      "Rosalind_3046 Rosalind_5452\n",
      "74 8 3\n",
      "Rosalind_1723 Rosalind_2992\n",
      "74 32 3\n",
      "Rosalind_1723 Rosalind_0497\n",
      "74 45 3\n",
      "Rosalind_1723 Rosalind_3686\n",
      "74 50 3\n",
      "Rosalind_1723 Rosalind_3397\n",
      "76 3 3\n",
      "Rosalind_9980 Rosalind_6308\n",
      "76 62 3\n",
      "Rosalind_9980 Rosalind_3472\n",
      "77 51 3\n",
      "Rosalind_6984 Rosalind_9527\n",
      "77 85 3\n",
      "Rosalind_6984 Rosalind_3617\n",
      "78 93 3\n",
      "Rosalind_7361 Rosalind_2230\n",
      "79 3 3\n",
      "Rosalind_5505 Rosalind_6308\n",
      "79 62 3\n",
      "Rosalind_5505 Rosalind_3472\n",
      "81 74 3\n",
      "Rosalind_5825 Rosalind_1723\n",
      "82 18 3\n",
      "Rosalind_4487 Rosalind_3304\n",
      "82 34 3\n",
      "Rosalind_4487 Rosalind_3172\n",
      "83 3 3\n",
      "Rosalind_3663 Rosalind_6308\n",
      "83 62 3\n",
      "Rosalind_3663 Rosalind_3472\n",
      "85 0 3\n",
      "Rosalind_3617 Rosalind_8680\n",
      "85 73 3\n",
      "Rosalind_3617 Rosalind_1673\n",
      "85 79 3\n",
      "Rosalind_3617 Rosalind_5505\n",
      "86 93 3\n",
      "Rosalind_7032 Rosalind_2230\n",
      "88 35 3\n",
      "Rosalind_2018 Rosalind_2814\n",
      "88 71 3\n",
      "Rosalind_2018 Rosalind_4476\n",
      "89 76 3\n",
      "Rosalind_3359 Rosalind_9980\n",
      "89 87 3\n",
      "Rosalind_3359 Rosalind_1708\n",
      "90 46 3\n",
      "Rosalind_7404 Rosalind_2076\n",
      "91 54 3\n",
      "Rosalind_4927 Rosalind_8235\n",
      "91 90 3\n",
      "Rosalind_4927 Rosalind_7404\n",
      "92 42 3\n",
      "Rosalind_4868 Rosalind_4025\n",
      "92 47 3\n",
      "Rosalind_4868 Rosalind_6107\n",
      "93 95 3\n",
      "Rosalind_2230 Rosalind_1258\n",
      "95 11 3\n",
      "Rosalind_1258 Rosalind_0925\n",
      "95 17 3\n",
      "Rosalind_1258 Rosalind_3018\n",
      "95 39 3\n",
      "Rosalind_1258 Rosalind_7395\n",
      "96 3 3\n",
      "Rosalind_7290 Rosalind_6308\n",
      "96 62 3\n",
      "Rosalind_7290 Rosalind_3472\n",
      "97 12 3\n",
      "Rosalind_2467 Rosalind_0826\n",
      "99 3 3\n",
      "Rosalind_6625 Rosalind_6308\n",
      "99 62 3\n",
      "Rosalind_6625 Rosalind_3472\n"
     ]
    }
   ],
   "source": [
    "## Overlap Graphs ##\n",
    "\n",
    "def loadFasta(filename):\n",
    "    fp = open(filename, 'rb')\n",
    "    data = fp.read().split('>')\n",
    "    fp.close\n",
    "    data.pop(0)\n",
    "    headers = []\n",
    "    sequences = []\n",
    "    for sequence in data:\n",
    "        lines = sequence.split('\\n')\n",
    "        headers.append(lines.pop(0))\n",
    "        sequences.append(''.join(lines))\n",
    "    return (headers, sequences)\n",
    "\n",
    "def Overlap(suffix, prefix, n):\n",
    "    \"\"\"Find the overlap between two string the suffix and the prefix.\n",
    "        N = minimum overlap\"\"\"\n",
    "    N = 0\n",
    "    if suffix[-n:] == prefix[:n]:\n",
    "            N = n\n",
    "    return N\n",
    "\n",
    "def adjList(head, seq, n):\n",
    "    for i in xrange(len(seq)):\n",
    "        for j in xrange(len(seq)):\n",
    "            if i == j:\n",
    "                continue\n",
    "            else:\n",
    "                eWeight = Overlap(seq[i], seq[j], n)\n",
    "                if (eWeight == n):\n",
    "                    print i, j, eWeight\n",
    "                    print head[i], head[j]\n",
    "                    \n",
    "h, s = loadFasta('Rosalind/txt/rosalind_grph.txt')\n",
    "adjList(h, s, 3)"
   ]
  },
  {
   "cell_type": "code",
   "execution_count": 107,
   "metadata": {
    "collapsed": false
   },
   "outputs": [
    {
     "name": "stdout",
     "output_type": "stream",
     "text": [
      "156017.5\n"
     ]
    }
   ],
   "source": [
    "## Expected Offspring ##\n",
    "\n",
    "listIn = [19333, 19010, 16820, 17585, 19314, 19571]\n",
    "probability = [1.0, 1.0, 1.0, 0.75, 0.5, 0.0]\n",
    "\n",
    "print sum([listIn[i]*probability[i]*2 for i in xrange(len(listIn))])"
   ]
  },
  {
   "cell_type": "code",
   "execution_count": null,
   "metadata": {
    "collapsed": true
   },
   "outputs": [],
   "source": []
  }
 ],
 "metadata": {
  "anaconda-cloud": {},
  "kernelspec": {
   "display_name": "Python [default]",
   "language": "python",
   "name": "python2"
  },
  "language_info": {
   "codemirror_mode": {
    "name": "ipython",
    "version": 2
   },
   "file_extension": ".py",
   "mimetype": "text/x-python",
   "name": "python",
   "nbconvert_exporter": "python",
   "pygments_lexer": "ipython2",
   "version": "2.7.12"
  }
 },
 "nbformat": 4,
 "nbformat_minor": 1
}
